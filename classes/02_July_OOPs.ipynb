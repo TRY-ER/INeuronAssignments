{
 "cells": [
  {
   "cell_type": "markdown",
   "id": "84d94e07",
   "metadata": {},
   "source": [
    "## 1. Explain what inheritance is in object-oriented programming and why it is used."
   ]
  },
  {
   "cell_type": "markdown",
   "id": "eea6cc54",
   "metadata": {},
   "source": [
    "\n",
    "Inheritance is a fundamental concept in object-oriented programming (OOP) that allows a class to inherit attributes and behaviors from another class. Inheritance creates a parent-child relationship between classes, where the child class (also known as the derived class or subclass) inherits the properties and methods of the parent class (also known as the base class or superclass).\n",
    "\n",
    "The main purpose of inheritance is to promote code reuse and to create a hierarchical structure of classes. By inheriting from a base class, the derived class automatically gains access to its attributes and methods. This allows for the reuse of common functionalities and the extension of existing classes to add new behaviors or modify existing ones. Inheritance helps to organize and structure code, improves code readability and maintainability, and reduces code duplication.\n",
    "\n",
    "Inheritance enables the concept of polymorphism, where objects of different classes can be treated as objects of the same base class. This allows for more flexible and modular code design, as different derived classes can be used interchangeably in various parts of the program."
   ]
  },
  {
   "cell_type": "markdown",
   "id": "60c5e53c",
   "metadata": {},
   "source": [
    "## 2. Discuss the concept of single inheritance and multiple inheritance, highlighting their differences and advantages."
   ]
  },
  {
   "cell_type": "markdown",
   "id": "85e3496d",
   "metadata": {},
   "source": [
    "In object-oriented programming, single inheritance and multiple inheritance are two different approaches to class inheritance.\n",
    "\n",
    "1. Single Inheritance:\n",
    "\n",
    "Single inheritance refers to the concept where a class inherits from only one base class. In other words, a derived class has only one immediate parent class. The derived class inherits the attributes and behaviors of the base class, allowing code reuse and extending the functionality of the base class. Single inheritance offers a simple and straightforward class hierarchy, making the code structure more manageable and less complex.\n",
    "\n",
    "a. Advantages of Single Inheritance:\n",
    "\n",
    "i. Simplicity: The class hierarchy is straightforward and easier to understand.\n",
    "\n",
    "ii. Code Reusability: Inheriting from a single base class allows the derived class to reuse the code and functionalities of the base class.\n",
    "\n",
    "iii. Encapsulation: Single inheritance promotes encapsulation, as the derived class inherits only the necessary attributes and behaviors from the base class.\n",
    "\n",
    "2. Multiple Inheritance:\n",
    "\n",
    "Multiple inheritance refers to the concept where a class can inherit from multiple base classes. In this approach, a derived class can inherit attributes and behaviors from multiple parent classes. This allows for combining functionalities from different classes into a single derived class. Multiple inheritance provides flexibility and allows for more complex class relationships and code reuse.\n",
    "\n",
    "a. Advantages of Multiple Inheritance:\n",
    "\n",
    "i. Code Reusability: Multiple inheritance enables the derived class to inherit and reuse code from multiple base classes, promoting code reusability.\n",
    "\n",
    "ii. Flexibility: Multiple inheritance allows for creating class hierarchies with more complex relationships and combining features from different classes.\n",
    "\n",
    "iii. Modularity: Multiple inheritance allows for creating modular code by inheriting specific features from different classes, leading to a more flexible and modular design.\n",
    "\n",
    "3. Differences between Single Inheritance and Multiple Inheritance:\n",
    "\n",
    "i. Single inheritance allows a class to inherit from only one base class, while multiple inheritance allows a class to inherit from multiple base classes.\n",
    "\n",
    "ii. In single inheritance, the class hierarchy is simpler and easier to manage, while multiple inheritance can lead to more complex class hierarchies.\n",
    "\n",
    "iii. Single inheritance promotes a more focused and specific relationship between classes, while multiple inheritance provides more flexibility in combining features from different classes.\n",
    "\n",
    "iv. Single inheritance may be preferred when the relationship between classes is straightforward and doesn't require combining features from multiple classes, while multiple inheritance may be useful in cases where different classes contribute to the functionality of the derived class.\n",
    "\n",
    "v. It's important to note that both single inheritance and multiple inheritance have their own use cases and should be chosen based on the specific requirements and design considerations of the application."
   ]
  },
  {
   "cell_type": "markdown",
   "id": "d8d7320f",
   "metadata": {},
   "source": []
  },
  {
   "cell_type": "markdown",
   "id": "63e19ea1",
   "metadata": {},
   "source": [
    "## 3. Explain the terms \"base class\" and \"derived class\" in the context of inheritance."
   ]
  },
  {
   "cell_type": "markdown",
   "id": "fc8c1c42",
   "metadata": {},
   "source": [
    "In the context of inheritance, the terms \"base class\" and \"derived class\" refer to the relationship between classes where one class serves as the foundation for another class.\n",
    "\n",
    "\n",
    "1. Base Class:\n",
    "\n",
    "A base class, also known as a parent class or superclass, is the class from which other classes inherit. It is the class that provides the common attributes and behaviors that are shared by its derived classes. The base class serves as a blueprint or template for the derived classes to inherit and extend. It defines the common functionality that can be reused by multiple derived classes. A base class can have its own attributes, methods, and properties.\n",
    "\n",
    "2. Derived Class:\n",
    "\n",
    "A derived class, also known as a child class or subclass, is a class that inherits attributes and behaviors from its base class. It extends or specializes the functionality provided by the base class by adding new attributes or overriding the existing methods. The derived class can have its own additional attributes, methods, and properties while inheriting the common features from the base class. It can also define its own unique behavior that is specific to the derived class.\n",
    "\n",
    "The concept of base class and derived class forms the foundation of inheritance, allowing for code reuse, modularity, and extending functionality. The derived classes inherit the attributes and methods of the base class while having the flexibility to add or modify their own behavior."
   ]
  },
  {
   "cell_type": "markdown",
   "id": "75026e75",
   "metadata": {},
   "source": [
    "## 4. What is the significance of the \"protected\" access modifier in inheritance? How does it differ from \"private\" and \"public\" modifiers?"
   ]
  },
  {
   "cell_type": "markdown",
   "id": "f5f23851",
   "metadata": {},
   "source": [
    "In Python, the access modifiers such as \"protected\", \"private\", and \"public\" determine the visibility and accessibility of class members (attributes and methods) within the class hierarchy.\n",
    "\n",
    "1. Public Access Modifier:\n",
    "\n",
    "Public members are accessible from anywhere, both within the class and outside the class. By default, all class members are considered public unless specified otherwise. They can be accessed and modified by any code that can access the object of the class.\n",
    "\n",
    "2. Protected Access Modifier:\n",
    "\n",
    "In Python, there is no strict enforcement of protected access modifier like in some other languages. However, by convention, a single leading underscore (_) is used to indicate that a member should be treated as protected. Protected members should be accessed within the class itself or its subclasses, but not from outside the class hierarchy.\n",
    "\n",
    "3. Private Access Modifier:\n",
    "\n",
    "In Python, a double leading underscore (__) is used to indicate private members. Private members are intended to be used only within the class that defines them. They cannot be accessed or modified directly from outside the class, even from derived classes."
   ]
  },
  {
   "cell_type": "code",
   "execution_count": 8,
   "id": "5811881f",
   "metadata": {},
   "outputs": [],
   "source": [
    "# examples\n",
    "class SampleClass():\n",
    "    def __init__(self):\n",
    "        ...\n",
    "    \n",
    "    def public_method(self):\n",
    "        ...\n",
    "\n",
    "    def _protected_method(self):\n",
    "        ... \n",
    "\n",
    "    def __private_method(self):\n",
    "        ..."
   ]
  },
  {
   "cell_type": "code",
   "execution_count": 9,
   "id": "54d677c5",
   "metadata": {},
   "outputs": [
    {
     "ename": "AttributeError",
     "evalue": "'SampleClass' object has no attribute '__private_method'",
     "output_type": "error",
     "traceback": [
      "\u001b[1;31m---------------------------------------------------------------------------\u001b[0m",
      "\u001b[1;31mAttributeError\u001b[0m                            Traceback (most recent call last)",
      "Cell \u001b[1;32mIn[9], line 4\u001b[0m\n\u001b[0;32m      2\u001b[0m someClass\u001b[39m.\u001b[39mpublic_method()\n\u001b[0;32m      3\u001b[0m someClass\u001b[39m.\u001b[39m_protected_method()\n\u001b[1;32m----> 4\u001b[0m someClass\u001b[39m.\u001b[39;49m__private_method()\n",
      "\u001b[1;31mAttributeError\u001b[0m: 'SampleClass' object has no attribute '__private_method'"
     ]
    }
   ],
   "source": [
    "someClass = SampleClass()\n",
    "someClass.public_method()\n",
    "someClass._protected_method()\n",
    "someClass.__private_method()"
   ]
  },
  {
   "cell_type": "markdown",
   "id": "3e7a43c6",
   "metadata": {},
   "source": [
    "## 5. What is the purpose of the \"super\" keyword in inheritance? Provide an example."
   ]
  },
  {
   "cell_type": "markdown",
   "id": "5849227d",
   "metadata": {},
   "source": [
    "The \"super\" keyword in inheritance is used to refer to the superclass or parent class. It allows us to invoke methods or access attributes of the parent class from within a subclass. The \"super\" keyword is primarily used to extend or override the functionality of the parent class while maintaining its original behavior."
   ]
  },
  {
   "cell_type": "code",
   "execution_count": 11,
   "id": "3ccf8a02",
   "metadata": {},
   "outputs": [
    {
     "name": "stdout",
     "output_type": "stream",
     "text": [
      "Engine started.\n",
      "Toyota Camry is ready to go.\n"
     ]
    }
   ],
   "source": [
    "# example\n",
    "\n",
    "class Vehicle:\n",
    "    def __init__(self, brand):\n",
    "        self.brand = brand\n",
    "\n",
    "    def start(self):\n",
    "        print(\"Engine started.\")\n",
    "\n",
    "class Car(Vehicle):\n",
    "    def __init__(self, brand, model):\n",
    "        super().__init__(brand)\n",
    "        self.model = model\n",
    "\n",
    "    def start(self):\n",
    "        super().start()\n",
    "        print(f\"{self.brand} {self.model} is ready to go.\")\n",
    "\n",
    "my_car = Car(\"Toyota\", \"Camry\")\n",
    "my_car.start()"
   ]
  },
  {
   "cell_type": "markdown",
   "id": "cc259556",
   "metadata": {},
   "source": [
    "## 6. Create a base class called \"Vehicle\" with attributes like \"make\", \"model\", and \"year\". Then, create a derived class called \"Car\" that inherits from \"Vehicle\" and adds an attribute called \"fuel_type\". Implement appropriate methods in both classes."
   ]
  },
  {
   "cell_type": "code",
   "execution_count": 15,
   "id": "b4b233b9",
   "metadata": {},
   "outputs": [],
   "source": [
    "class Vehicle:\n",
    "    def __init__(self, make, model, year):\n",
    "        self.make = make\n",
    "        self.model = model\n",
    "        self.year = year\n",
    "\n",
    "class Car(Vehicle):\n",
    "    def __init__(self, make, model, year, fuel_type):\n",
    "        super().__init__(make, model, year)\n",
    "        self.fuel_type = fuel_type"
   ]
  },
  {
   "cell_type": "code",
   "execution_count": 16,
   "id": "8ecf40e4",
   "metadata": {},
   "outputs": [],
   "source": [
    "# testing\n",
    "auto_ricksaw = Vehicle(\"bajaj\",\"no_idea\", 1969)\n",
    "# fake_auto_ricksaw = Vehicle(\"bajaj\",\"no_idea\")\n",
    "some_car = Car(\"renault\",\"duster\", 2003, \"petrol\")"
   ]
  },
  {
   "cell_type": "markdown",
   "id": "2f9095ce",
   "metadata": {},
   "source": [
    "## 7. Create a base class called \"Employee\" with attributes like \"name\" and \"salary.\" Derive two classes, \"Manager\" and \"Developer,\" from \"Employee.\" Add an additional attribute called \"department\" for the \"Manager\" class and \"programming_language\" for the \"Developer\" class."
   ]
  },
  {
   "cell_type": "code",
   "execution_count": 17,
   "id": "7827d96e",
   "metadata": {},
   "outputs": [],
   "source": [
    "class Employee:\n",
    "    def __init__(self,name,salary):\n",
    "        self.name=name\n",
    "        self.salary=salary\n",
    "\n",
    "class Manager(Employee):\n",
    "    def __init__(self,name,salary,department):\n",
    "        super().__init__(name,salary)\n",
    "        self.department=department\n",
    "\n",
    "class Developer(Employee):\n",
    "    def __init__(self,name,salary,programming_language):\n",
    "        super().__init__(name,salary)\n",
    "        self.programming_language=programming_language"
   ]
  },
  {
   "cell_type": "markdown",
   "id": "1c1cb067",
   "metadata": {},
   "source": [
    "## 8. Design a base class called \"Shape\" with attributes like \"colour\" and \"border_width.\" Create derived classes, \"Rectangle\" and \"Circle,\" that inherit from \"Shape\" and add specific attributes like \"length\" and \"width\" for the \"Rectangle\" class and \"radius\" for the \"Circle\" class."
   ]
  },
  {
   "cell_type": "code",
   "execution_count": 18,
   "id": "a125c270",
   "metadata": {},
   "outputs": [],
   "source": [
    "class Shape:\n",
    "    def __init__(self, colour, border_width):\n",
    "        self.colour = colour\n",
    "        self.border_width = border_width\n",
    "\n",
    "class Rectangle(Shape):\n",
    "    def __init__(self, colour, border_width, length, width):\n",
    "        super().__init__(colour, border_width)\n",
    "        self.length = length\n",
    "        self.width = width\n",
    "\n",
    "class Circle(Shape):\n",
    "    def __init__(self, colour, border_width, radius):\n",
    "        super().__init__(colour, border_width)\n",
    "        self.radius = radius"
   ]
  },
  {
   "cell_type": "markdown",
   "id": "2b516f0d",
   "metadata": {},
   "source": [
    "## 9. Create a base class called \"Device\" with attributes like \"brand\" and \"model.\" Derive two classes, \"Phone\" and \"Tablet,\" from \"Device.\" Add specific attributes like \"screen_size\" for the \"Phone\" class and \"battery_capacity\" for the \"Tablet\" class."
   ]
  },
  {
   "cell_type": "code",
   "execution_count": 19,
   "id": "237c7af9",
   "metadata": {},
   "outputs": [],
   "source": [
    "class Device:\n",
    "    def __init__(self, brand, model):\n",
    "        self.brand = brand\n",
    "        self.model = model\n",
    "\n",
    "class Phone(Device):\n",
    "    def __init__(self, brand, model, screen_size):\n",
    "        super().__init__(brand, model)\n",
    "        self.screen_size = screen_size\n",
    "    \n",
    "class Tablet(Device):\n",
    "    def __init__(self, brand, model, battery_capacity):\n",
    "        super().__init__(brand, model)\n",
    "        self.battery_capacity = battery_capacity"
   ]
  },
  {
   "cell_type": "markdown",
   "id": "17f59fb5",
   "metadata": {},
   "source": [
    "## 10. Create a base class called \"BankAccount\" with attributes like \"account_number\" and \"balance.\" Derive two classes, \"SavingsAccount\" and \"CheckingAccount,\" from \"BankAccount.\" Add specific methods like \"calculate_interest\" for the \"SavingsAccount\" class and \"deduct_fees\" for the \"CheckingAccount\" class."
   ]
  },
  {
   "cell_type": "code",
   "execution_count": 22,
   "id": "2e2f0ccd",
   "metadata": {},
   "outputs": [],
   "source": [
    "class BankAccount:\n",
    "    def __init__(self, account_number, balance):\n",
    "        self.account_number = account_number\n",
    "        self.balance = balance\n",
    "\n",
    "class SavingsAccount(BankAccount):\n",
    "    def _init__(self, account_number, balance):\n",
    "        super().__init__(account_number, balance)\n",
    "\n",
    "    def _calculate_interest(self, rate: float):\n",
    "        return self.balance * rate\n",
    "\n",
    "class CheckingAccount(BankAccount):\n",
    "    def _init__(self, account_number, balance):\n",
    "        super().__init__(account_number, balance)\n",
    "\n",
    "    def _deduct_fees(self, fees: float):\n",
    "        self.balance -= fees "
   ]
  },
  {
   "cell_type": "code",
   "execution_count": null,
   "id": "4ff2804e",
   "metadata": {},
   "outputs": [],
   "source": []
  }
 ],
 "metadata": {
  "kernelspec": {
   "display_name": "Python 3 (ipykernel)",
   "language": "python",
   "name": "python3"
  },
  "language_info": {
   "codemirror_mode": {
    "name": "ipython",
    "version": 3
   },
   "file_extension": ".py",
   "mimetype": "text/x-python",
   "name": "python",
   "nbconvert_exporter": "python",
   "pygments_lexer": "ipython3",
   "version": "3.10.11"
  }
 },
 "nbformat": 4,
 "nbformat_minor": 5
}
