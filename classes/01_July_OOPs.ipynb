{
 "cells": [
  {
   "cell_type": "markdown",
   "id": "f6edb58d-ce46-43bc-8644-69d45c1c11a8",
   "metadata": {},
   "source": [
    "## What is the primary goal of Object-Oriented Programming (OOP)?"
   ]
  },
  {
   "cell_type": "markdown",
   "id": "92084741-8be9-4741-a629-2951ebc467dd",
   "metadata": {},
   "source": [
    "The primary goal of Object-Oriented Programming (OOP) in Python, as well as in other programming languages, is to organize code and data into reusable components called objects. OOP aims to improve code modularity, reusability, and maintainability by providing a way to structure programs around objects that have their own data (attributes) and behavior (methods).\n",
    "\n",
    "The key concepts of OOP in Python include:\n",
    "\n",
    "1. Encapsulation: Encapsulating data and methods within objects, allowing for information hiding and better control over access and modification of data.\n",
    "\n",
    "2. Inheritance: Allowing objects to inherit properties and behaviors from parent classes, promoting code reuse and creating hierarchical relationships between classes.\n",
    "\n",
    "3. Polymorphism: Allowing objects of different classes to be treated interchangeably through the use of common interfaces, enabling flexibility and extensibility in program design.\n",
    "\n",
    "By leveraging these OOP principles, Python programs can be designed in a modular and structured manner, making it easier to manage complex systems, promote code reuse, and enhance code maintainability and scalability."
   ]
  },
  {
   "cell_type": "markdown",
   "id": "acdea5b9-d3b8-4ff7-860a-ae3d0c30e088",
   "metadata": {},
   "source": [
    "## 2. What is an object in Python?"
   ]
  },
  {
   "cell_type": "markdown",
   "id": "2e4c56f8-1eb5-4ef6-b628-9991ce9ff4ad",
   "metadata": {},
   "source": [
    "In Python, an object is an instance of a class. It is a fundamental concept in Object-Oriented Programming (OOP). Objects are created based on a blueprint called a class, which defines the attributes (data) and behaviors (methods) that the objects of that class possess.\n",
    "\n",
    "An object in Python is a self-contained entity that can store data and perform actions. It has its own unique identity, state, and behavior. The data within an object is stored in attributes, which are variables associated with the object. The behavior of an object is defined by its methods, which are functions associated with the object.\n",
    "\n",
    "When an object is created from a class, it is said to be an instance of that class. Each instance of the class has its own set of attributes and can perform actions independently of other instances."
   ]
  },
  {
   "cell_type": "markdown",
   "id": "3aaccbeb-2523-4dca-9e75-33a24348066c",
   "metadata": {},
   "source": [
    "## 3. What is a class in Python?"
   ]
  },
  {
   "cell_type": "markdown",
   "id": "bf66e770-26e0-4642-9994-829cc754a736",
   "metadata": {},
   "source": [
    "\n",
    "In Python, a class is a blueprint or a template that defines the structure and behavior of objects. It is a fundamental concept in Object-Oriented Programming (OOP). A class encapsulates data (attributes) and functions (methods) that define the properties and behaviors of objects created from that class.\n",
    "\n",
    "A class serves as a blueprint for creating multiple instances (objects) with similar characteristics. It defines the attributes that store data and the methods that define the behavior or actions that can be performed by the objects."
   ]
  },
  {
   "cell_type": "markdown",
   "id": "25283fb0-16a0-4478-8528-4d5aa08a0286",
   "metadata": {},
   "source": [
    "## 4. What are attributes and methods in a class?"
   ]
  },
  {
   "cell_type": "markdown",
   "id": "5b500db0-7c25-42a2-b036-2ffdb83c1936",
   "metadata": {},
   "source": [
    "In a class, attributes and methods define the properties and behaviors of objects created from that class. Here's an explanation of attributes and methods:\n",
    "\n",
    "Attributes:\n",
    "\n",
    "1. Attributes are the variables that store data associated with each instance (object) of a class. They represent the state or characteristics of an object.\n",
    "2. Attributes can be defined in the class's constructor method (__init__()), and they are accessed using the dot notation (object.attribute).\n",
    "Attributes can be of any data type, such as strings, numbers, lists, or even other objects.\n",
    "3. Each instance of a class can have its own set of attribute values.\n",
    "\n",
    "\n",
    "Methods:\n",
    "\n",
    "1. Methods are functions defined inside a class. They define the actions or behaviors that objects created from the class can perform.\n",
    "2. Methods can access and modify the attributes of the class and can also perform other operations or calculations.\n",
    "3. Methods are defined in the class definition and are accessed using the dot notation (object.method()).\n",
    "4. There are two types of methods: instance methods and class methods. Instance methods are defined with the self parameter and operate on individual instances of the class. Class methods are defined with the @classmethod decorator and operate on the class itself rather than individual instances."
   ]
  },
  {
   "cell_type": "markdown",
   "id": "c1d805f6-f1c8-483b-9958-e9efd25f7105",
   "metadata": {},
   "source": [
    "## 5. What is the difference between class variables and instance variables in Python?"
   ]
  },
  {
   "cell_type": "markdown",
   "id": "4f6e6704-0dc3-4ef7-894d-029e44ee4a50",
   "metadata": {},
   "source": [
    "\n",
    "In Python, class variables and instance variables are two types of variables that are used within a class. Here's the difference between them:\n",
    "\n",
    "Class Variables:\n",
    "\n",
    "1. Class variables are defined inside the class but outside any method. They are shared by all instances (objects) of the class.\n",
    "2. Class variables are declared at the class level and have the same value for all instances of the class.\n",
    "3. They are accessed using the class name (ClassName.variable) or through instances of the class (object.variable).\n",
    "4. Modifying the value of a class variable affects all instances of the class.\n",
    "   \n",
    "Instance Variables:\n",
    "\n",
    "1. Instance variables are unique to each instance (object) of the class. They are defined and accessed within the methods of the class.\n",
    "2. Instance variables are declared inside the class's methods, typically within the constructor method (__init__()), using the self keyword.\n",
    "3. Each instance of the class can have different values for its instance variables.\n",
    "4. Instance variables are accessed using the dot notation (object.variable)."
   ]
  },
  {
   "cell_type": "markdown",
   "id": "e91e5a0a-5131-480b-9f9f-6b5b91257b3e",
   "metadata": {},
   "source": [
    "## 6. What is the purpose of the self parameter in Python class methods?}"
   ]
  },
  {
   "cell_type": "markdown",
   "id": "f072e4da-38a7-4a3d-980f-9bceabfa71a6",
   "metadata": {},
   "source": [
    "In Python, the self parameter in class methods refers to the instance of the class itself. It is a convention to name the first parameter of instance methods as self, although you can choose any valid name.\n",
    "\n",
    "The self parameter allows the instance methods to access and manipulate the instance's attributes and perform operations specific to that instance. It provides a way for the instance to refer to itself within the class.\n",
    "\n",
    "When a method is called on an instance of a class, the instance itself is automatically passed as the first argument to the method. By convention, this argument is named self to indicate that it represents the instance. The self parameter is implicit and automatically provided when you call the method, so you don't need to explicitly pass it when calling the method."
   ]
  },
  {
   "cell_type": "markdown",
   "id": "3b7ad516-c149-4855-8910-97271a52a8cc",
   "metadata": {},
   "source": [
    "## 7. For a library management system, you have to design the \"Book\" class with OOP\n",
    "principles in mind. The “Book” class will have following attributes:\n",
    "\n",
    "    a. title: Represents the title of the book.\n",
    "\n",
    "    b. author: Represents the author(s) of the book.\n",
    "\n",
    "    c. isbn: Represents the ISBN (International Standard Book Number) of the book.\n",
    "\n",
    "    d. publication_year: Represents the year of publication of the book.\n",
    "\n",
    "    e. available_copies: Represents the number of copies available for checkout.\n",
    "\n",
    "The class will also include the following methods:\n",
    "\n",
    "    a. check_out(self): Decrements the available copies by one if there are copies available for checkout.\n",
    "\n",
    "    b. return_book(self): Increments the available copies by one when a book is returned.\n",
    "\n",
    "    c. display_book_info(self): Displays the information about the book, including its attributes and the number of available copies."
   ]
  },
  {
   "cell_type": "code",
   "execution_count": 5,
   "id": "370fc0c6-92bc-4e56-8ca3-4efb923fd2aa",
   "metadata": {},
   "outputs": [],
   "source": [
    "# finally some code\n",
    "class Book():\n",
    "    def __init__(self,\n",
    "                 title: str,\n",
    "                 author: str,\n",
    "                 isbn: str ,\n",
    "                 publication_year: int,\n",
    "                 available_copies: int):\n",
    "        self.title = title\n",
    "        self.author = author\n",
    "        self.isbn = isbn\n",
    "        self.publication_year = publication_year\n",
    "        self.available_copies = available_copies\n",
    "\n",
    "    # checkout method\n",
    "    def check_out(self):\n",
    "        if self.available_copies > 0:\n",
    "            print(\"[--] Removing one  book\")\n",
    "            self.available_copies -= 1\n",
    "        else:\n",
    "            print(\"[--] The is not enough book to book\")\n",
    "            raise ValueError(\"Not Enough items to do the checkout\")\n",
    "    \n",
    "    # return method\n",
    "    def return_book(self):\n",
    "        print(\"[++] Adding another book\")\n",
    "        self.available_copies += 1\n",
    "\n",
    "    #display book info\n",
    "    def display_book_info(self):\n",
    "        print(\"[++] Detailed book Info\")\n",
    "        print(\"_______________________\")\n",
    "        print(\"Title --> \",self.title)\n",
    "        print(\"Author --> \",self.author)\n",
    "        print(\"ISBN --> \",self.isbn)\n",
    "        print(\"Publication Year --> \",self.publication_year)\n",
    "        print(\"Available Copies --> \",self.available_copies)\n",
    "        "
   ]
  },
  {
   "cell_type": "code",
   "execution_count": 9,
   "id": "ad550fe1-de26-424e-b2b1-b6757467a6e9",
   "metadata": {},
   "outputs": [
    {
     "name": "stdout",
     "output_type": "stream",
     "text": [
      "[++] Detailed book Info\n",
      "_______________________\n",
      "Title -->  How to waste time\n",
      "Author -->  Dr. Debasish Mohanty\n",
      "ISBN -->  69696969696\n",
      "Publication Year -->  2023\n",
      "Available Copies -->  4\n",
      "[--] Removing one  book\n",
      "[--] Removing one  book\n",
      "[--] Removing one  book\n",
      "[++] Adding another book\n",
      "[++] Detailed book Info\n",
      "_______________________\n",
      "Title -->  How to waste time\n",
      "Author -->  Dr. Debasish Mohanty\n",
      "ISBN -->  69696969696\n",
      "Publication Year -->  2023\n",
      "Available Copies -->  2\n"
     ]
    }
   ],
   "source": [
    "book = Book(\"How to waste time\", \"Dr. Debasish Mohanty\", \"69696969696\", 2023, 4)\n",
    "book.display_book_info() \n",
    "book.check_out()  \n",
    "book.check_out()  \n",
    "book.check_out()  \n",
    "book.return_book()  \n",
    "book.display_book_info()  "
   ]
  },
  {
   "cell_type": "code",
   "execution_count": 10,
   "id": "ed676f68-5c4f-4a1f-94b1-afa0ecd09980",
   "metadata": {},
   "outputs": [
    {
     "name": "stdout",
     "output_type": "stream",
     "text": [
      "[++] Detailed book Info\n",
      "_______________________\n",
      "Title -->  How to waste time\n",
      "Author -->  Dr. Debasish Mohanty\n",
      "ISBN -->  69696969696\n",
      "Publication Year -->  2023\n",
      "Available Copies -->  2\n",
      "[--] Removing one  book\n",
      "[--] Removing one  book\n",
      "[--] The is not enough book to book\n"
     ]
    },
    {
     "ename": "ValueError",
     "evalue": "Not Enough copies to do the checkout",
     "output_type": "error",
     "traceback": [
      "\u001b[1;31m---------------------------------------------------------------------------\u001b[0m",
      "\u001b[1;31mValueError\u001b[0m                                Traceback (most recent call last)",
      "Cell \u001b[1;32mIn[10], line 5\u001b[0m\n\u001b[0;32m      3\u001b[0m book\u001b[38;5;241m.\u001b[39mcheck_out()  \n\u001b[0;32m      4\u001b[0m book\u001b[38;5;241m.\u001b[39mcheck_out()  \n\u001b[1;32m----> 5\u001b[0m \u001b[43mbook\u001b[49m\u001b[38;5;241;43m.\u001b[39;49m\u001b[43mcheck_out\u001b[49m\u001b[43m(\u001b[49m\u001b[43m)\u001b[49m  \n\u001b[0;32m      6\u001b[0m book\u001b[38;5;241m.\u001b[39mreturn_book()  \n\u001b[0;32m      7\u001b[0m book\u001b[38;5;241m.\u001b[39mdisplay_book_info()  \n",
      "Cell \u001b[1;32mIn[5], line 22\u001b[0m, in \u001b[0;36mBook.check_out\u001b[1;34m(self)\u001b[0m\n\u001b[0;32m     20\u001b[0m \u001b[38;5;28;01melse\u001b[39;00m:\n\u001b[0;32m     21\u001b[0m     \u001b[38;5;28mprint\u001b[39m(\u001b[38;5;124m\"\u001b[39m\u001b[38;5;124m[--] The is not enough book to book\u001b[39m\u001b[38;5;124m\"\u001b[39m)\n\u001b[1;32m---> 22\u001b[0m     \u001b[38;5;28;01mraise\u001b[39;00m \u001b[38;5;167;01mValueError\u001b[39;00m(\u001b[38;5;124m\"\u001b[39m\u001b[38;5;124mNot Enough copies to do the checkout\u001b[39m\u001b[38;5;124m\"\u001b[39m)\n",
      "\u001b[1;31mValueError\u001b[0m: Not Enough copies to do the checkout"
     ]
    }
   ],
   "source": [
    "book = Book(\"How to waste time\", \"Dr. Debasish Mohanty\", \"69696969696\", 2023, 2)\n",
    "book.display_book_info() \n",
    "book.check_out()  \n",
    "book.check_out()  \n",
    "book.check_out()  \n",
    "book.return_book()  \n",
    "book.display_book_info()  "
   ]
  },
  {
   "cell_type": "markdown",
   "id": "3fda05cb-5da2-4385-9fe8-2d094877fca9",
   "metadata": {},
   "source": [
    "## 8. For a ticket booking system, you have to design the \"Ticket\" class with OOP principles in mind. \n",
    "\n",
    "The “Ticket” class should have the following attributes:\n",
    "\n",
    "    a. ticket_id: Represents the unique identifier for the ticket.\n",
    "\n",
    "    b. event_name: Represents the name of the event.\n",
    "\n",
    "    c. event_date: Represents the date of the event.\n",
    "\n",
    "    d. venue: Represents the venue of the event.\n",
    "\n",
    "    e. seat_number: Represents the seat number associated with the ticket.\n",
    "\n",
    "    f. price: Represents the price of the ticket.\n",
    "\n",
    "    g. is_reserved: Represents the reservation status of the ticket.\n",
    "\n",
    "The class also includes the following methods:\n",
    "\n",
    "    a. reserve_ticket(self): Marks the ticket as reserved if it is not already reserved.\n",
    "    \n",
    "    b. cancel_reservation(self): Cancels the reservation of the ticket if it is already reserved.\n",
    "    \n",
    "    c. display_ticket_info(self): Displays the information about the ticket, including its attributes and reservation status.vation status."
   ]
  },
  {
   "cell_type": "code",
   "execution_count": 2,
   "id": "fa12896c-2c9b-4ac5-84ec-cd9d044998a8",
   "metadata": {},
   "outputs": [],
   "source": [
    "class Ticket():\n",
    "    def __init__(self,\n",
    "                 ticket_id: str,\n",
    "                 event_name: str,\n",
    "                 event_date: str ,\n",
    "                 venue: str,\n",
    "                 seat_number : int,\n",
    "                 price : int,\n",
    "                 is_reserved: bool = False):\n",
    "        self.ticket_id = ticket_id\n",
    "        self.event_name = event_name\n",
    "        self.event_date = event_date\n",
    "        self.venue = venue\n",
    "        self.seat_number = seat_number\n",
    "        self.price = price\n",
    "        self.is_reserved = is_reserved\n",
    "\n",
    "    # reserve ticket method\n",
    "    def reserve_ticket(self):\n",
    "        if not self.is_reserved:\n",
    "            print(\"[++] Reserving the ticket\")\n",
    "            self.is_reserved = True\n",
    "        else:\n",
    "            print(\"[--] The ticket is already reserved !!\")\n",
    "            raise ValueError(\"Can't book a booked ticket\")\n",
    "    \n",
    "    # cancel reservation method\n",
    "    def cancel_reservation(self):\n",
    "        if self.is_reserved:\n",
    "            print(\"[--] Cancelling the reservation\")\n",
    "            self.is_reserved = False\n",
    "        else:\n",
    "            print(\"[--] The ticket is not reserved !!\")\n",
    "            raise ValueError(\"Can't cancel ticket that is not booked\")\n",
    "\n",
    "    #display ticket info \n",
    "    def display_ticket_info(self):\n",
    "        print(\"[++] Detailed ticket Info\")\n",
    "        print(\"_______________________\")\n",
    "        print(\"Ticke ID --> \",self.ticket_id)\n",
    "        print(\"Event Name--> \",self.event_name)\n",
    "        print(\"Event Date --> \",self.event_date)\n",
    "        print(\"Venue --> \",self.venue)\n",
    "        print(\"Seat Number --> \",self.seat_number)\n",
    "        print(\"Price --> Rs. \",self.price)\n",
    "        print(\"Status --> \", \"Booked\" if self.is_reserved else \"Not Booked\")\n",
    "        "
   ]
  },
  {
   "cell_type": "code",
   "execution_count": 3,
   "id": "08704879-22de-4dd9-853f-877e3729d8b4",
   "metadata": {},
   "outputs": [
    {
     "name": "stdout",
     "output_type": "stream",
     "text": [
      "[++] Reserving the ticket\n",
      "[--] Cancelling the reservation\n",
      "[++] Detailed ticket Info\n",
      "_______________________\n",
      "Ticke ID -->  1088dd88-0225-4ca2-b0b0-e603f9099d45\n",
      "Event Name-->  Concert\n",
      "Event Date -->  2023-08-15\n",
      "Venue -->  Arena\n",
      "Seat Number -->  42\n",
      "Price --> Rs.  1000\n",
      "Status -->  Not Booked\n"
     ]
    }
   ],
   "source": [
    "import uuid\n",
    "ticket_id = str(uuid.uuid4())\n",
    "ticket = Ticket(ticket_id, \"Concert\", \"2023-08-15\", \"Arena\", 42, 1000)\n",
    "\n",
    "ticket.reserve_ticket()\n",
    "ticket.cancel_reservation()\n",
    "ticket.display_ticket_info()"
   ]
  },
  {
   "cell_type": "code",
   "execution_count": 4,
   "id": "87aab4a5-f2dd-4469-ae0d-2ab6f5c95ba6",
   "metadata": {},
   "outputs": [
    {
     "name": "stdout",
     "output_type": "stream",
     "text": [
      "[--] The ticket is not reserved !!\n"
     ]
    },
    {
     "ename": "ValueError",
     "evalue": "Can't cancel ticket that is not booked",
     "output_type": "error",
     "traceback": [
      "\u001b[1;31m---------------------------------------------------------------------------\u001b[0m",
      "\u001b[1;31mValueError\u001b[0m                                Traceback (most recent call last)",
      "Cell \u001b[1;32mIn[4], line 1\u001b[0m\n\u001b[1;32m----> 1\u001b[0m \u001b[43mticket\u001b[49m\u001b[38;5;241;43m.\u001b[39;49m\u001b[43mcancel_reservation\u001b[49m\u001b[43m(\u001b[49m\u001b[43m)\u001b[49m\n",
      "Cell \u001b[1;32mIn[2], line 34\u001b[0m, in \u001b[0;36mTicket.cancel_reservation\u001b[1;34m(self)\u001b[0m\n\u001b[0;32m     32\u001b[0m \u001b[38;5;28;01melse\u001b[39;00m:\n\u001b[0;32m     33\u001b[0m     \u001b[38;5;28mprint\u001b[39m(\u001b[38;5;124m\"\u001b[39m\u001b[38;5;124m[--] The ticket is not reserved !!\u001b[39m\u001b[38;5;124m\"\u001b[39m)\n\u001b[1;32m---> 34\u001b[0m     \u001b[38;5;28;01mraise\u001b[39;00m \u001b[38;5;167;01mValueError\u001b[39;00m(\u001b[38;5;124m\"\u001b[39m\u001b[38;5;124mCan\u001b[39m\u001b[38;5;124m'\u001b[39m\u001b[38;5;124mt cancel ticket that is not booked\u001b[39m\u001b[38;5;124m\"\u001b[39m)\n",
      "\u001b[1;31mValueError\u001b[0m: Can't cancel ticket that is not booked"
     ]
    }
   ],
   "source": [
    "ticket.cancel_reservation()"
   ]
  },
  {
   "cell_type": "markdown",
   "id": "01b5f20c-cdab-404d-bab4-ac45a3c82506",
   "metadata": {},
   "source": [
    "## 9. You are creating a shopping cart for an e-commerce website. Using OOP to model the \"ShoppingCart\" functionality the class should contain following attributes and methods:\n",
    "\n",
    "    a. items: Represents the list of items in the shopping cart.\n",
    "    \n",
    "The class also includes the following methods:\n",
    "\n",
    "    a. add_item(self, item): Adds an item to the shopping cart by appending it to the list of items.\n",
    "\n",
    "    b. remove_item(self, item): Removes an item from the shopping cart if it exists in the list.\n",
    "\n",
    "    c. view_cart(self): Displays the items currently present in the shopping cart.\n",
    "\n",
    "    d. clear_cart(self): Clears all items from the shopping cart by reassigning an empty list to the items attribute."
   ]
  },
  {
   "cell_type": "code",
   "execution_count": 13,
   "id": "6cc6f561-abfc-4037-9636-2aa9ee4b2546",
   "metadata": {},
   "outputs": [],
   "source": [
    "from typing import List, Union\n",
    "class ShoppingCart():\n",
    "    def __init__(self,\n",
    "                 items : list[str]):\n",
    "        self.items = items\n",
    "\n",
    "    # add item method\n",
    "    def add_item(self, item: str, inplace: bool = True)-> Union[List[str],None]:\n",
    "        if inplace:\n",
    "            self.items.append(item)\n",
    "            return None\n",
    "        else:\n",
    "            temp_item = self.items\n",
    "            temp_item.append(item)\n",
    "            return temp_item\n",
    "    \n",
    "    # remove item method\n",
    "    def remove_item(self, item: str, inplace: bool = True)-> Union[List[str],None]:\n",
    "        if item in self.items:\n",
    "            if inplace:\n",
    "                self.items.remove(item)\n",
    "                return None\n",
    "            else:\n",
    "                temp_item = self.items\n",
    "                temp_item.remove(item)\n",
    "                return temp_item\n",
    "        else:\n",
    "            print(\"[--] Can't find the item in the cart\")\n",
    "            raise ValueError(\"Item can't be found in the cart\")\n",
    "            return None\n",
    "            \n",
    "    #display cart content info \n",
    "    def view_cart(self):\n",
    "        if len(self.items) > 0:\n",
    "            for i,content in enumerate(self.items):\n",
    "                print(i,\"  -->\",content)\n",
    "        else:\n",
    "            print(\"Cart is empty\")\n",
    "\n",
    "    # clear cart\n",
    "    def clear_cart(self):\n",
    "        self.items = []\n",
    "        "
   ]
  },
  {
   "cell_type": "code",
   "execution_count": 14,
   "id": "a79fd8ef-85a6-4702-a1b6-ebea0e1422f2",
   "metadata": {},
   "outputs": [
    {
     "name": "stdout",
     "output_type": "stream",
     "text": [
      "0   --> apple\n",
      "1   --> banana\n",
      "2   --> orange\n",
      "3   --> grape\n",
      "['apple', 'banana', 'orange', 'grape', 'watermelon']\n",
      "0   --> apple\n",
      "1   --> orange\n",
      "2   --> grape\n",
      "3   --> watermelon\n",
      "['apple', 'grape', 'watermelon']\n",
      "[--] Can't find the item in the cart\n",
      "Item can't be found in the cart\n",
      "Cart is empty\n"
     ]
    }
   ],
   "source": [
    "cart = ShoppingCart(['apple', 'banana', 'orange'])\n",
    "\n",
    "cart.add_item('grape')\n",
    "cart.view_cart() \n",
    "\n",
    "new_cart = cart.add_item('watermelon', inplace=False)\n",
    "print(new_cart) \n",
    "\n",
    "\n",
    "cart.remove_item('banana')\n",
    "cart.view_cart() \n",
    "\n",
    "new_cart = cart.remove_item('orange', inplace=False)\n",
    "print(new_cart)  \n",
    "\n",
    "try:\n",
    "    cart.remove_item('pear') \n",
    "except Exception as e:\n",
    "    print(e)\n",
    "    \n",
    "cart.clear_cart()\n",
    "cart.view_cart()  \n"
   ]
  },
  {
   "cell_type": "markdown",
   "id": "c0a9d7d3",
   "metadata": {},
   "source": [
    "## 10. Imagine a school management system. You have to design the \"Student\" class using OOP concepts.The “Student” class has the following attributes:\n",
    "\n",
    "    a. name: Represents the name of the student.\n",
    "\n",
    "    b. age: Represents the age of the student.\n",
    "\n",
    "    c. grade: Represents the grade or class of the student.\n",
    "     \n",
    "    d. student_id: Represents the unique identifier for the student.\n",
    "\n",
    "    e. attendance: Represents the attendance record of the student.\n",
    "\n",
    "The class should also include the following methods:\n",
    "\n",
    "    a. update_attendance(self, date, status): Updates the attendance record of the student for a given date with the provided status (e.g., present or absent).\n",
    "\n",
    "    b. get_attendance(self): Returns the attendance record of the student.\n",
    "\n",
    "    c. get_average_attendance(self): Calculates and returns the average attendance percentage of the student based on their attendance record."
   ]
  },
  {
   "cell_type": "code",
   "execution_count": 1,
   "id": "c54eb8dd-3269-4beb-9688-a1095a3b3450",
   "metadata": {},
   "outputs": [],
   "source": [
    "from typing import List, Union\n",
    "\n",
    "\n",
    "\n",
    "class Student():\n",
    "    def __init__(self,\n",
    "                name: str,\n",
    "                age: int,\n",
    "                gender: str,\n",
    "                student_id: str,\n",
    "                attendance: dict \n",
    "                ):\n",
    "        self.name = name\n",
    "        self.age = age\n",
    "        self.gender = gender\n",
    "        self.student_id = student_id\n",
    "        self.attendance = attendance\n",
    "\n",
    "    # update attendance method\n",
    "    def update_attendance(self, date: str, status: str) -> dict:\n",
    "        if status not in [\"Present\", \"Absent\"]:\n",
    "            raise ValueError(\"Invalid status\")\n",
    "        self.attendance[date] = status\n",
    "        return self.attendance \n",
    "    \n",
    "    # get attendance method \n",
    "    def get_attendance(self):\n",
    "        return self.attendance \n",
    "            \n",
    "    # calculate attendance percentage method\n",
    "    def get_average_attendance(self) -> float:\n",
    "        total_days = len(self.attendance)\n",
    "        total_present = 0\n",
    "        for key, value in self.attendance.items():\n",
    "            if value == \"Present\":\n",
    "                total_present += 1\n",
    "        return total_present / total_days\n",
    "\n",
    "\n"
   ]
  },
  {
   "cell_type": "code",
   "execution_count": 3,
   "id": "1599c2cb",
   "metadata": {},
   "outputs": [
    {
     "name": "stdout",
     "output_type": "stream",
     "text": [
      "Attendance of Debasish:  {'2020-07-01': 'Present', '2020-07-02': 'Absent', '2020-07-03': 'Present', '2020-07-04': 'Present'}\n",
      "Percentage attendance of Debasish:  0.75\n"
     ]
    }
   ],
   "source": [
    "# generate simple test for above functions\n",
    "\n",
    "student_1 = Student(\n",
    "    name = \"Debasish\",\n",
    "    age = 20,\n",
    "    gender = \"Male\",\n",
    "    student_id = \"S001\",\n",
    "    attendance = {\n",
    "        \"2020-07-01\": \"Present\",\n",
    "        \"2020-07-02\": \"Absent\",\n",
    "        \"2020-07-03\": \"Present\"\n",
    "        }\n",
    ") \n",
    "\n",
    "student_1.update_attendance(\"2020-07-04\", \"Present\")\n",
    "\n",
    "print(\"Attendance of Debasish: \",student_1.get_attendance())\n",
    "\n",
    "print(\"Percentage attendance of Debasish: \",student_1.get_average_attendance())\n"
   ]
  },
  {
   "cell_type": "code",
   "execution_count": null,
   "id": "ff709de5",
   "metadata": {},
   "outputs": [],
   "source": []
  }
 ],
 "metadata": {
  "kernelspec": {
   "display_name": "Python 3 (ipykernel)",
   "language": "python",
   "name": "python3"
  },
  "language_info": {
   "codemirror_mode": {
    "name": "ipython",
    "version": 3
   },
   "file_extension": ".py",
   "mimetype": "text/x-python",
   "name": "python",
   "nbconvert_exporter": "python",
   "pygments_lexer": "ipython3",
   "version": "3.10.11"
  }
 },
 "nbformat": 4,
 "nbformat_minor": 5
}
