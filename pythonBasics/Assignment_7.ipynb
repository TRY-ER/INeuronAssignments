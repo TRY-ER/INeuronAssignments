{
 "cells": [
  {
   "cell_type": "markdown",
   "id": "c2655c85-5e70-42c5-8e58-3ab0aa29b40f",
   "metadata": {},
   "source": [
    "## Q.1. Create two int type variables, apply addition, subtraction, division and multiplicationsand store the results in variables. Then print the data in the following format by calling thevariables:\n",
    "\n",
    "First variable is __ & second variable is __.\n",
    "\n",
    "Addition: __ + __ = __\n",
    "\n",
    "Subtraction: __ - __ = __\n",
    "\n",
    "Multiplication: __ * __ = __\n",
    "\n",
    "Division: __ / __ = __\n"
   ]
  },
  {
   "cell_type": "code",
   "execution_count": 2,
   "id": "996fc004-dd5d-47b7-93cf-a87f960cbb74",
   "metadata": {
    "tags": []
   },
   "outputs": [
    {
     "name": "stdout",
     "output_type": "stream",
     "text": [
      "First variable is 12 & second variable is 10.\n",
      "Addition: 12 + 10 =  22\n",
      "Subtraction: 12 - 10 = 2\n",
      "Multiplication: 12 * 10 = 120\n",
      "Division: 12 / 10 =  1.2\n"
     ]
    }
   ],
   "source": [
    "f = 12\n",
    "s = 10\n",
    "\n",
    "print(f\"First variable is {f} & second variable is {s}.\")\n",
    "print(f\"Addition: {f} + {s} = \",f+s)\n",
    "print(f\"Subtraction: {f} - {s} =\", f-s)\n",
    "print(f\"Multiplication: {f} * {s} =\" ,f*s)\n",
    "print(f\"Division: {f} / {s} = \",f/s)"
   ]
  },
  {
   "cell_type": "markdown",
   "id": "cdf6dfe2-c036-4f36-a4b7-2c457de61664",
   "metadata": {},
   "source": [
    "## Q.2. What is the difference between the following operators:\n",
    "(i) ‘/’ & ‘//’\n",
    "\n",
    "(ii) ‘**’ & ‘^’"
   ]
  },
  {
   "cell_type": "markdown",
   "id": "b23a6209-eee1-4a40-bae9-d940b0e2cdd4",
   "metadata": {},
   "source": [
    "### (i) Difference between '/' and '//':\n",
    "\n",
    "The '/' operator performs normal division and returns the result as a floating-point number.\n",
    "\n",
    "The '//' operator performs floor division, which returns the largest integer that is less than or equal to the division result. It discards the decimal part and always returns an integer value."
   ]
  },
  {
   "cell_type": "code",
   "execution_count": 3,
   "id": "37ea2a1a-dc0c-4d68-abc5-0f09435f5f78",
   "metadata": {
    "tags": []
   },
   "outputs": [
    {
     "name": "stdout",
     "output_type": "stream",
     "text": [
      "3.5\n",
      "3\n"
     ]
    }
   ],
   "source": [
    "print(7 / 2)\n",
    "print(7 // 2)"
   ]
  },
  {
   "cell_type": "markdown",
   "id": "0455a1b4-f6ed-4fdf-89b7-6aa2388a7ec4",
   "metadata": {},
   "source": [
    "### (ii) Difference between '**' and '^':\n",
    "\n",
    "The '**' operator is used for exponentiation, which raises the left operand to the power of the right operand.\n",
    "\n",
    "The '^' operator, on the other hand, is not an exponentiation operator in Python. It is the bitwise XOR operator, used for performing bitwise exclusive OR operation between two integers."
   ]
  },
  {
   "cell_type": "code",
   "execution_count": 4,
   "id": "06a02dc3-236f-43cd-919b-c64067c283f3",
   "metadata": {
    "tags": []
   },
   "outputs": [
    {
     "name": "stdout",
     "output_type": "stream",
     "text": [
      "8\n",
      "1\n"
     ]
    }
   ],
   "source": [
    "print( 2**3)\n",
    "print( 2 ^ 3)"
   ]
  },
  {
   "cell_type": "markdown",
   "id": "eb9ec224-677f-4b3f-b4d0-13d9d5020404",
   "metadata": {},
   "source": [
    "## Q.3. List the logical operators."
   ]
  },
  {
   "cell_type": "markdown",
   "id": "ed6042c0-508a-491e-b212-d1255fe5dcba",
   "metadata": {},
   "source": [
    "### The logical operators in Python are:\n",
    "\n",
    "and operator: Returns True if both operands are True, otherwise returns False.\n",
    "\n",
    "or operator: Returns True if at least one of the operands is True, otherwise returns False.\n",
    "\n",
    "not operator: Reverses the logical state of the operand. If the operand is True, it returns False; if the operand is False, it returns True."
   ]
  },
  {
   "cell_type": "markdown",
   "id": "d68df1cc-47bd-4f0d-8b8f-57fe1a0de6ff",
   "metadata": {},
   "source": [
    "## Q.4. Explain right shift operator and left shift operator with examples."
   ]
  },
  {
   "cell_type": "markdown",
   "id": "b0d053e8-6361-4c57-85ac-df58656f0eb0",
   "metadata": {
    "tags": []
   },
   "source": [
    "The right shift operator (>>) and left shift operator (<<) are bitwise operators in Python that manipulate the binary representation of numbers by shifting the bits to the right or left.\n",
    "\n",
    "1. Right Shift Operator (>>):\n",
    "\n",
    "The right shift operator shifts the bits of a number towards the right by a specified number of positions.\n",
    "\n",
    "It effectively divides the number by 2 raised to the power of the specified shift amount.\n",
    "\n",
    "The vacant bit positions on the left are filled with the sign bit (for signed numbers) or with zeros (for unsigned numbers).\n",
    "\n",
    "2. Left Shift Operator (<<):\n",
    "\n",
    "The left shift operator shifts the bits of a number towards the left by a specified number of positions.\n",
    "\n",
    "It effectively multiplies the number by 2 raised to the power of the specified shift amount.\n",
    "\n",
    "The vacant bit positions on the right are filled with zeros."
   ]
  },
  {
   "cell_type": "code",
   "execution_count": 18,
   "id": "46fc5243-0a35-41dc-aa7d-0effcdd99412",
   "metadata": {
    "tags": []
   },
   "outputs": [
    {
     "name": "stdout",
     "output_type": "stream",
     "text": [
      "4\n"
     ]
    }
   ],
   "source": [
    "num = 16   # Binary: 10000\n",
    "shift = 2\n",
    "# Right Shift Operator (>>)\n",
    "result = num >> shift\n",
    "print(result)   #(Binary: 100)"
   ]
  },
  {
   "cell_type": "code",
   "execution_count": 17,
   "id": "d4af867c-5997-439a-8da5-0ffc5b54909c",
   "metadata": {
    "tags": []
   },
   "outputs": [
    {
     "name": "stdout",
     "output_type": "stream",
     "text": [
      "40\n"
     ]
    }
   ],
   "source": [
    "num = 5    # Binary: 101\n",
    "shift = 3\n",
    "# Left Shift Operator (<<):\n",
    "result = num << shift\n",
    "print(result)   #(Binary: 101000)"
   ]
  },
  {
   "cell_type": "markdown",
   "id": "9c166564-a592-43fd-b78b-fda5372e95d8",
   "metadata": {},
   "source": [
    "## Q.5. Create a list containing int type data of length 15. Then write a code to check if 10 is present in the list or not."
   ]
  },
  {
   "cell_type": "code",
   "execution_count": 13,
   "id": "b4fef725-228b-4221-938f-31912da3e4c5",
   "metadata": {
    "tags": []
   },
   "outputs": [
    {
     "name": "stdout",
     "output_type": "stream",
     "text": [
      "[++] 10 is present in the list\n"
     ]
    }
   ],
   "source": [
    "\n",
    "import random\n",
    "\n",
    "#creating 15 random integers and assigning to a list\n",
    "int_list = [ random.randint(2,18) for _ in range(15) ] ## we have to run the code few times if don't get 10\n",
    "\n",
    "for i in int_list:\n",
    "    if i == 10:\n",
    "        print(\"[++] 10 is present in the list\")\n",
    "        break"
   ]
  },
  {
   "cell_type": "code",
   "execution_count": 19,
   "id": "d8b0a908-5498-4f4d-bdf2-c44924c3bb70",
   "metadata": {
    "tags": []
   },
   "outputs": [
    {
     "name": "stdout",
     "output_type": "stream",
     "text": [
      "[++] 10 is present in the list\n"
     ]
    }
   ],
   "source": [
    "# or\n",
    "\n",
    "if 10 in int_list:print(\"[++] 10 is present in the list\")"
   ]
  },
  {
   "cell_type": "code",
   "execution_count": null,
   "id": "5a0e3b82-ee4a-43d9-b9aa-5c26c0920f9f",
   "metadata": {},
   "outputs": [],
   "source": []
  }
 ],
 "metadata": {
  "kernelspec": {
   "display_name": "Python 3 (ipykernel)",
   "language": "python",
   "name": "python3"
  },
  "language_info": {
   "codemirror_mode": {
    "name": "ipython",
    "version": 3
   },
   "file_extension": ".py",
   "mimetype": "text/x-python",
   "name": "python",
   "nbconvert_exporter": "python",
   "pygments_lexer": "ipython3",
   "version": "3.10.6"
  }
 },
 "nbformat": 4,
 "nbformat_minor": 5
}
