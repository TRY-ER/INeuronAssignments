{
 "cells": [
  {
   "cell_type": "markdown",
   "id": "00d240a7-cc86-499a-9374-6c980efe1101",
   "metadata": {},
   "source": [
    "# 1.What are the two values of the Boolean data type? How do you write them?\n",
    "\n",
    "Ans: \n",
    "## The boolean datatype is actually a simple binary system that represent True or False value as 1 or 0.In python, it is written as True and False"
   ]
  },
  {
   "cell_type": "markdown",
   "id": "07274a51-ffdc-4db2-9349-a6dd25feeeff",
   "metadata": {},
   "source": [
    "# 2. What are the three different types of Boolean operators?\n",
    "Ans:\n",
    "## Three types of boolean operators are \"and\", \"or\" and \"not\". The can be represented both using characters and sybmols"
   ]
  },
  {
   "cell_type": "markdown",
   "id": "f2ee1884-d21b-4f4d-8cb9-34a47c0c5695",
   "metadata": {},
   "source": [
    "# 3. Make a list of each Boolean operator&#39;s truth tables (i.e. every possible combination of Boolean values for the operator and what it evaluate )."
   ]
  },
  {
   "cell_type": "code",
   "execution_count": 12,
   "id": "71272df2-2468-4ef2-9f43-3c85149a2849",
   "metadata": {},
   "outputs": [
    {
     "name": "stdout",
     "output_type": "stream",
     "text": [
      "Truth Table for [and] operator\n",
      "True  and  True  => True\n",
      "True  and  False  => False\n",
      "False  and  True  => False\n",
      "False  and  False  => False\n",
      "\n",
      "\n",
      "Truth Table for [or] operator\n",
      "True  or  True  => True\n",
      "True  or  False  => False\n",
      "False  or  True  => False\n",
      "False  or  False  => False\n",
      "\n",
      "\n",
      "Truth Table for [not] operator\n",
      "True  not  True  => False\n",
      "True  not  False  => True\n",
      "False  not  True  => True\n",
      "False  not  False  => False\n",
      "\n",
      "\n"
     ]
    }
   ],
   "source": [
    "# Ans:\n",
    "operators = [\"and\",\"or\",\"not\"]\n",
    "var1 = True\n",
    "var2 = False\n",
    "\n",
    "for op in operators:\n",
    "    print(f\"Truth Table for [{op}] operator\")\n",
    "    for b in [var1,var2]:\n",
    "        for c in [var1,var2]:\n",
    "            if op == \"and\":\n",
    "                print(b , f\" { op } \" , c, \" =>\", b and c) \n",
    "            elif op == \"or\":\n",
    "                print(b , f\" { op } \" , c, \" =>\", b and c)\n",
    "            elif op == \"not\":\n",
    "                print(b , f\" { op } \" , c, \" =>\", b is not c)\n",
    "    print(\"\\n\")"
   ]
  },
  {
   "cell_type": "markdown",
   "id": "1b79bcf7-af95-40f1-a061-11702e8e3ed3",
   "metadata": {},
   "source": [
    "# 4. What are the values of the following expressions?\n",
    "Ans : \n",
    "(5 &gt; 4) and (3 == 5) => False\n",
    "\n",
    "not (5 &gt; 4) => False\n",
    "\n",
    "(5 &gt; 4) or (3 == 5) => True\n",
    "\n",
    "not ((5 &gt; 4) or (3 == 5)) => False\n",
    "\n",
    "(True and True) and (True == False) => False\n",
    "\n",
    "(not False) or (not True) => True"
   ]
  },
  {
   "cell_type": "markdown",
   "id": "d868c57d-7585-480a-baf9-6a476b742eac",
   "metadata": {},
   "source": [
    "# 5. What are the six comparison operators?\n",
    "\n",
    "Ans:\n",
    "\n",
    "Equal to (==): Evaluates if two values are equal.\n",
    "    \n",
    "Not equal to (!=): Evaluates if two values are not equal.\n",
    "\n",
    "Greater than (>): Evaluates if the left value is greater than the right value.\n",
    "    \n",
    "Less than (<): Evaluates if the left value is less than the right value.\n",
    "    \n",
    "Greater than or equal to (>=): Evaluates if the left value is greater than or equal to the right value.\n",
    "\n",
    "Less than or equal to (<=): Evaluates if the left value is less than or equal to the right value."
   ]
  },
  {
   "cell_type": "markdown",
   "id": "034c7a72-399a-4a51-b239-24113a22b866",
   "metadata": {},
   "source": [
    "# 6. How do you tell the difference between the equal to and assignment operators? Describe a condition and when you would use one..\n",
    "\n",
    "Ans:\n",
    " \n",
    "To differentiate between the equal to and assignment operators, you need to understand the context\n",
    " \n",
    "in which they are used. In a condition or comparison, you would use the equal to operator (==) to\n",
    " \n",
    "compare values. For example)"
   ]
  },
  {
   "cell_type": "code",
   "execution_count": null,
   "id": "1e64baa7-9caa-472f-a080-69e5b736a2a4",
   "metadata": {},
   "outputs": [],
   "source": [
    "x = 5  # -> Assignment\n",
    "if x == 5: # -> Equal operator\n",
    "    print(\"x is equal to 5\")"
   ]
  },
  {
   "cell_type": "markdown",
   "id": "b99c5e2d-c2b0-46f1-90be-68a053f644af",
   "metadata": {},
   "source": [
    "# 7. Identify the three blocks in this code: "
   ]
  },
  {
   "cell_type": "code",
   "execution_count": 16,
   "id": "06572e55-04f5-4c91-b496-75cae34fd948",
   "metadata": {},
   "outputs": [
    {
     "name": "stdout",
     "output_type": "stream",
     "text": [
      "ham\n",
      "spam\n",
      "spam\n"
     ]
    }
   ],
   "source": [
    "# Ans\n",
    "\n",
    "spam = 0\n",
    "if spam == 10:\n",
    "    print('eggs')  #---> Block 1\n",
    "if spam > 5:\n",
    "    print('bacon')   #----> Block 2\n",
    "else:\n",
    "    print('ham')\n",
    "    print('spam')    #-----> Block 3\n",
    "    print('spam')"
   ]
  },
  {
   "cell_type": "markdown",
   "id": "851e7ed3-a6d7-43cb-a65c-7e0a156d353f",
   "metadata": {},
   "source": [
    "# 8. Write code that prints Hello if 1 is stored in spam, prints Howdy if 2 is stored in spam, and prints Greetings! if anything else is stored in spam."
   ]
  },
  {
   "cell_type": "code",
   "execution_count": 24,
   "id": "795357a9-a0d2-44da-95fe-f4a75be265f2",
   "metadata": {},
   "outputs": [
    {
     "name": "stdout",
     "output_type": "stream",
     "text": [
      "Hello\n"
     ]
    }
   ],
   "source": [
    "# Ans: \n",
    "import random\n",
    "\n",
    "spam = random.choice([1,2,3])\n",
    "if spam == 1: print(\"Hello\")\n",
    "elif spam == 2: print(\"Howdy\")\n",
    "else: print(\"Greetings\")"
   ]
  },
  {
   "cell_type": "markdown",
   "id": "7500231f-a6f3-4d0b-934d-ce6f82d207ed",
   "metadata": {},
   "source": [
    "# 9.If your programme is stuck in an endless loop, what keys you’ll press?\n",
    "Ans:\n",
    "\n",
    "If it's running in the terminal ctrl+c is preferred to end the loop. \n",
    "\n",
    "Else the task manager is used for binary or executable files."
   ]
  },
  {
   "cell_type": "markdown",
   "id": "7710ee2e-f533-45ba-8cfc-a413d5e2458a",
   "metadata": {},
   "source": [
    "# 10. How can you tell the difference between break and continue?\n",
    "\n",
    "Ans : \n",
    "\n",
    "The break statement is utilized to abruptly end a loop and exit it entirely. When encountered, it immediately terminates the loop, allowing the program to proceed with the subsequent statement after the loop.\r\n",
    "In contrast, the continue statement is employed to bypass the remaining code within the current iteration of a loop and proceed to the next iteration. When encountered, it jumps to the next iteration of the loop, skipping any code below it within the current iteration."
   ]
  },
  {
   "cell_type": "markdown",
   "id": "5d6016b5-12f2-48e0-9724-44e7194bc406",
   "metadata": {},
   "source": [
    "# 11. In a for loop, what is the difference between range(10), range(0, 10), and range(0, 10, 1)?"
   ]
  },
  {
   "cell_type": "code",
   "execution_count": 33,
   "id": "3dd25aa2-5eb5-4927-91aa-c2e6da16a61b",
   "metadata": {},
   "outputs": [
    {
     "name": "stdout",
     "output_type": "stream",
     "text": [
      "[0, 1, 2, 3, 4, 5, 6, 7, 8, 9]\n",
      "[0, 1, 2, 3, 4, 5, 6, 7, 8, 9]\n",
      "[0, 1, 2, 3, 4, 5, 6, 7, 8, 9]\n",
      "[0, 2, 4, 6, 8]\n"
     ]
    }
   ],
   "source": [
    "# Ans:\n",
    "\n",
    "print([x for x in range(10)])   ## -> takes the positive interger range from 0 to 10\n",
    "print([x for x in range(0,10)])  ## -> takes the positive interger range from 0 to 10 ( by default the intial position is 0) \n",
    "print([x for x in range(0,10,1)])  ## -> takes the positive interger range from 0 to 10 up when the difference between two consecutive \n",
    "                                   ## items in list is 1 ( it's called stepping param)\n",
    "print([x for x in range(0,10,2)])  ## when the stepping param is set to 2"
   ]
  },
  {
   "cell_type": "markdown",
   "id": "037279e3-f570-4e3f-a78d-1f225601d164",
   "metadata": {},
   "source": [
    "# 12. Write a short program that prints the numbers 1 to 10 using a for loop. Then write an equivalent program that prints the numbers 1 to 10 using a while loop."
   ]
  },
  {
   "cell_type": "code",
   "execution_count": 35,
   "id": "3e34db08-374e-4827-93c7-6a0b50b8cbf1",
   "metadata": {
    "collapsed": true,
    "jupyter": {
     "outputs_hidden": true
    },
    "scrolled": true
   },
   "outputs": [
    {
     "name": "stdout",
     "output_type": "stream",
     "text": [
      "1\n",
      "2\n",
      "3\n",
      "4\n",
      "5\n",
      "6\n",
      "7\n",
      "8\n",
      "9\n",
      "10\n",
      "1\n",
      "2\n",
      "3\n",
      "4\n",
      "5\n",
      "6\n",
      "7\n",
      "8\n",
      "9\n",
      "10\n"
     ]
    }
   ],
   "source": [
    "for i in range(1,11):print(i)\n",
    "j = 1\n",
    "while(j<11):\n",
    "    print(j)\n",
    "    j += 1"
   ]
  },
  {
   "cell_type": "markdown",
   "id": "3246fa58-ebed-49ed-b476-ae0191e7c7b6",
   "metadata": {},
   "source": [
    "# 13. If you had a function named bacon() inside a module named spam, how would you call it after importing spam?"
   ]
  },
  {
   "cell_type": "markdown",
   "id": "10ab4a32-66ca-4cd5-83a0-f46723294447",
   "metadata": {},
   "source": [
    "## Ans: \n",
    "## There is atleast two ways to do it:\n",
    "\n",
    "1. import spam\n",
    "\n",
    "    spam.bacon()\n",
    "\n",
    "2. from spam import bacon\n",
    "\n",
    "    bacon()\n",
    "\n",
    "3. from spam import bacon as b_func\n",
    "\n",
    "    b_func()"
   ]
  }
 ],
 "metadata": {
  "kernelspec": {
   "display_name": "Python 3 (ipykernel)",
   "language": "python",
   "name": "python3"
  },
  "language_info": {
   "codemirror_mode": {
    "name": "ipython",
    "version": 3
   },
   "file_extension": ".py",
   "mimetype": "text/x-python",
   "name": "python",
   "nbconvert_exporter": "python",
   "pygments_lexer": "ipython3",
   "version": "3.10.11"
  }
 },
 "nbformat": 4,
 "nbformat_minor": 5
}
