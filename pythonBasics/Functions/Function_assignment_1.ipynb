{
 "cells": [
  {
   "cell_type": "markdown",
   "id": "7e91ce92-9632-4e55-a414-b2361508eab5",
   "metadata": {},
   "source": [
    "## 1. In Python, what is the difference between a built-in function and a \n",
    "\n",
    "## user-defined function? Provide an example of each\n",
    "."
   ]
  },
  {
   "cell_type": "markdown",
   "id": "d7879a8f-b626-4fed-9305-417a0e0505c6",
   "metadata": {},
   "source": [
    "In Python, there exists a fundamental distinction between built-in functions and user-defined functions:\n",
    "\n",
    "Built-in Function:\n",
    "\n",
    "Built-in functions are pre-defined functions integrated into Python's standard library.\n",
    "They are readily accessible and can be used directly without requiring additional code or import statements.\n",
    "Examples of built-in functions comprise print(), len(), type(), range(), etc."
   ]
  },
  {
   "cell_type": "code",
   "execution_count": 1,
   "id": "38a63337-a9a6-4071-9b2a-e00b1f101785",
   "metadata": {},
   "outputs": [
    {
     "name": "stdout",
     "output_type": "stream",
     "text": [
      "In built print function\n"
     ]
    }
   ],
   "source": [
    "print(\"In built print function\")"
   ]
  },
  {
   "cell_type": "markdown",
   "id": "762b7f43-670f-477d-b72e-8e10d12108f3",
   "metadata": {},
   "source": [
    "User-defined Function:\n",
    "\n",
    "User-defined functions are crafted by users to execute specific tasks or operations.\n",
    "Users create these functions by composing their own code, specifying the function name, parameters (if any), and the desired functionality.\n",
    "User-defined functions can be tailored to fit individual needs and reused throughout the program."
   ]
  },
  {
   "cell_type": "code",
   "execution_count": 2,
   "id": "228d2a11-d1ff-427d-a530-004f1e7b7040",
   "metadata": {},
   "outputs": [],
   "source": [
    "def add(a,b):\n",
    "    return a+b"
   ]
  },
  {
   "cell_type": "markdown",
   "id": "9299697c-7dcd-456b-80e4-c41de55af7aa",
   "metadata": {},
   "source": [
    "## 2. How can you pass arguments to a function in Python? Explain the difference between positional\n",
    "\n",
    "## arguments and keyword arguments."
   ]
  },
  {
   "cell_type": "markdown",
   "id": "493196dc-718a-4772-9cef-c4a02000d886",
   "metadata": {},
   "source": [
    "\r\n",
    "In Python, arguments can be passed to a function in the following ways:\r\n",
    "\r\n",
    "Positional Arguments:\r\n",
    "Positional arguments are provided to a function based on their order.\r\n",
    "The function parameters receive the values in the same order as they are passed.\r\n",
    "The number and positions of the arguments must match the function definition.\r\n",
    "Positional arguments are commonly used when the argument order is significant.ficant."
   ]
  },
  {
   "cell_type": "code",
   "execution_count": 3,
   "id": "649f0f0c-1da2-4dfe-b319-0d17f3084c9d",
   "metadata": {},
   "outputs": [
    {
     "data": {
      "text/plain": [
       "3"
      ]
     },
     "execution_count": 3,
     "metadata": {},
     "output_type": "execute_result"
    }
   ],
   "source": [
    "def add(first:int ,second:int)->int:\n",
    "    return(first+second)\n",
    "add(1,2)"
   ]
  },
  {
   "cell_type": "markdown",
   "id": "c3a6a459-01fc-4c33-881d-e5915fdc39cf",
   "metadata": {},
   "source": [
    "Keyword Arguments:\n",
    "Keyword arguments are passed to a function by specifying the parameter names explicitly.\n",
    "Each argument is assigned to its corresponding parameter using the format parameter_name=value.\n",
    "The order of keyword arguments does not matter.\n",
    "Keyword arguments are helpful when you want to specify selected arguments and skip others, or when the order is not important."
   ]
  },
  {
   "cell_type": "code",
   "execution_count": 4,
   "id": "cd400fb2-0847-4832-b0cc-162311a402f0",
   "metadata": {},
   "outputs": [
    {
     "data": {
      "text/plain": [
       "3"
      ]
     },
     "execution_count": 4,
     "metadata": {},
     "output_type": "execute_result"
    }
   ],
   "source": [
    "def add(first:int ,second:int)->int:\n",
    "    return(first+second)\n",
    "add(first=1,second=2)"
   ]
  },
  {
   "cell_type": "markdown",
   "id": "cb7b980a-ecb6-4bd5-aa74-5ba9a01779cb",
   "metadata": {},
   "source": [
    "## 3. What is the purpose of the return statement in a function? Can a function have multiple return\n",
    "## statements? Explain with an example."
   ]
  },
  {
   "cell_type": "markdown",
   "id": "e8735c79-6747-4121-b791-9279454bdf01",
   "metadata": {},
   "source": [
    "\n",
    "The return statement in a function serves the purpose of specifying the value or values that the function should output or return when it is called. It allows the function to pass back data or results to the caller.\n",
    "\n",
    "A function can indeed have multiple return statements. When a return statement is encountered in a function, it immediately terminates the execution of the function and returns the specified value. Having multiple return statements can be useful in different scenarios, such as conditionally returning different values based on certain conditions or returning early from the function if a specific condition is met."
   ]
  },
  {
   "cell_type": "code",
   "execution_count": 5,
   "id": "9d57d862-7dfb-44f2-b838-511548c6a6f1",
   "metadata": {},
   "outputs": [
    {
     "name": "stdout",
     "output_type": "stream",
     "text": [
      "Positive\n",
      "Negative\n",
      "Zero\n"
     ]
    }
   ],
   "source": [
    "def chk_num(number):\n",
    "    if number < 0:\n",
    "        return \"Negative\"\n",
    "    elif number == 0:\n",
    "        return \"Zero\"\n",
    "    else:\n",
    "        return \"Positive\"\n",
    "\n",
    "result1 = chk_num(5)\n",
    "print(result1)  \n",
    "result2 = chk_num(-2)\n",
    "print(result2)  \n",
    "result3 = chk_num(0)\n",
    "print(result3)  "
   ]
  },
  {
   "cell_type": "markdown",
   "id": "73d14959-e694-45da-9c55-72a160a59c95",
   "metadata": {},
   "source": [
    "## 4. What are lambda functions in Python? How are they different from regular functions? Provide an\n",
    "## example where a lambda function can be useful."
   ]
  },
  {
   "cell_type": "markdown",
   "id": "c4356e17-3dfe-42f6-9587-842df3048bcd",
   "metadata": {},
   "source": [
    "Lambda functions in Python, also known as anonymous functions, are small, one-line functions that are defined without a name. They are created using the lambda keyword, followed by the function parameters and a single expression. Lambda functions are typically used when we need a simple, short-lived function without the need for a formal function definition.\n",
    "\n",
    "The key differences between lambda functions and regular functions are:\n",
    "\n",
    "\n",
    "Anonymous: Lambda functions are anonymous, meaning they do not have a name. They are defined inline and are often used where they are created.\n",
    "\n",
    "\n",
    "Single expression: Lambda functions are limited to a single expression. They are concise and typically used for simple operations.\n",
    "\n",
    "\n",
    "No return statement: Lambda functions automatically return the result of the expression. There is no need to explicitly use a return statement."
   ]
  },
  {
   "cell_type": "code",
   "execution_count": 9,
   "id": "b46bd21f-ef73-4968-bb79-7833638d78d7",
   "metadata": {},
   "outputs": [
    {
     "name": "stdout",
     "output_type": "stream",
     "text": [
      "[1, 4, 9, 16, 25]\n"
     ]
    }
   ],
   "source": [
    "numbers = [1, 2, 3, 4, 5]\n",
    "squared_numbers = list(map(lambda x: x ** 2, numbers)) #lambda function that finds square of numbers\n",
    "print(squared_numbers)"
   ]
  },
  {
   "cell_type": "markdown",
   "id": "1bf89ca3-527d-439a-b1f5-e01e40e95dd9",
   "metadata": {},
   "source": [
    "## 5. How does the concept of \"scope\" apply to functions in Python? Explain the difference between local\n",
    "## scope and global scope."
   ]
  },
  {
   "cell_type": "markdown",
   "id": "1bd94716-4dd9-4dc1-8dbf-1b9f801877f0",
   "metadata": {},
   "source": [
    "In Python, the concept of \"scope\" refers to the visibility and accessibility of variables within different parts of a program. It determines where a variable can be referenced or modified. Local scope refers to the visibility of variables within a specific function or block of code. Variables defined within a function are only accessible within that function and cannot be accessed from outside. They are created when the function is called and destroyed when the function completes its execution. These variables are known as local variables. Global scope, on the other hand, refers to the visibility of variables throughout the entire program. Variables defined outside of any function or block of code are considered global variables and can be accessed from anywhere within the program. They are created when the program starts and remain in memory until the program terminates or the variable is explicitly modified or deleted. The main difference between local scope and global scope is their visibility and accessibility. Local variables can only be accessed within the function or block where they are defined, while global variables can be accessed from any part of the program. Additionally, local variables take precedence over global variables with the same name. If a local variable is defined with the same name as a global variable, the local variable will be used within its scope, overshadowing the global variable."
   ]
  },
  {
   "cell_type": "markdown",
   "id": "3d5b3fe5-208b-4b8f-9dbb-468f2a2b8a7b",
   "metadata": {},
   "source": [
    "## 6. How can you use the \"return\" statement in a Python function to return multiple values?"
   ]
  },
  {
   "cell_type": "markdown",
   "id": "0275b70a-f88a-4cbc-a22e-d97d8d5a05be",
   "metadata": {},
   "source": [
    "In Python, the \"return\" statement in a function is used to send a value or a set of values back to the caller. While a function typically returns a single value, you can use various techniques to return multiple values.\n",
    "\n",
    "1. Using a tuple: You can pack multiple values into a tuple and return it from the function.\n",
    "2. Using a list: Similar to tuples, you can pack multiple values into a list and return it.\n",
    "3. Using a dictionary: If you want to associate the returned values with specific keys, you can use a dictionary."
   ]
  },
  {
   "cell_type": "code",
   "execution_count": null,
   "id": "4b3aba88-ab7c-4124-a786-18578efacdfe",
   "metadata": {},
   "outputs": [],
   "source": []
  },
  {
   "cell_type": "markdown",
   "id": "be832eb5-2cba-478e-a207-6ae6d3dee71b",
   "metadata": {},
   "source": [
    "In Python, the concepts of \"pass by value\" and \"pass by reference\" relate to how function arguments are handled.\n",
    "\n",
    "Pass by Value:\n",
    "\n",
    "1. When a function is called with arguments, the values of the arguments are copied to the function parameters.\n",
    "2. Any modifications made to the function parameters within the function do not affect the original values of the arguments outside the function.\n",
    "3. This means that the function works with a copy of the values, and changes made to the parameters do not propagate back to the caller.\n",
    "4. Python uses pass by value for immutable data types like numbers, strings, and tuples.\n",
    "\n",
    "Pass by Reference:\n",
    "\n",
    "1. When a function is called with arguments, a reference to the memory location of the arguments is passed to the function parameters.\r",
    "2. \n",
    "Modifications made to the function parameters within the function will affect the original values of the arguments outside the function\n",
    "3. \r\n",
    "This means that changes made to the parameters will be visible to the calle\n",
    "4. .\r\n",
    "Python uses pass by reference for mutable data types like lists and dictionaries.ries."
   ]
  },
  {
   "cell_type": "markdown",
   "id": "e73d3760-f8d2-42ba-a6e8-6a65a8693625",
   "metadata": {},
   "source": [
    "## 8. Create a function that can intake integer or decimal value and do following operations:\n",
    "a. Logarithmic function (log x)\n",
    "\n",
    "b. Exponential function (exp(x))\n",
    "\n",
    "c. Power function with base 2 (2 ^x)\n",
    "\n",
    "d. Square root"
   ]
  },
  {
   "cell_type": "code",
   "execution_count": 20,
   "id": "a19b80d7-b778-4488-9aa7-cbcb89041dd6",
   "metadata": {},
   "outputs": [],
   "source": [
    "import numpy as np   ## I already know numpy \n",
    "def multifunc(fnality: str, value: float)-> float:\n",
    "    if(fnality == \"log\"):\n",
    "        return np.log(value)\n",
    "    elif(fnality == \"exp\"):\n",
    "        return np.exp(value)\n",
    "    elif(fnality == \"base2\"):\n",
    "        return 2**value\n",
    "    elif(fnality == \"root\"):\n",
    "        return np.sqrt(value)\n",
    "    else:\n",
    "        print(\"enter valid operation string !!\")\n",
    "        return None"
   ]
  },
  {
   "cell_type": "code",
   "execution_count": 21,
   "id": "6010fcbf-f4e3-4209-a200-793921e1bac8",
   "metadata": {},
   "outputs": [
    {
     "name": "stdout",
     "output_type": "stream",
     "text": [
      "log --> 1.6094379124341003\n",
      "exp --> 148.4131591025766\n",
      "base2 --> 32\n",
      "root --> 2.23606797749979\n"
     ]
    }
   ],
   "source": [
    "print(\"log -->\",multifunc(\"log\",5))\n",
    "print(\"exp -->\",multifunc(\"exp\",5))\n",
    "print(\"base2 -->\",multifunc(\"base2\",5))\n",
    "print(\"root -->\",multifunc(\"root\",5))"
   ]
  },
  {
   "cell_type": "markdown",
   "id": "4a2d46c6-f751-415a-9e59-824b7b359ebe",
   "metadata": {},
   "source": [
    "## 9. Create a function that takes a full name as an argument and returns first name and last name."
   ]
  },
  {
   "cell_type": "code",
   "execution_count": 28,
   "id": "b8382d5a-ee62-4360-bd39-179ac05a4ec0",
   "metadata": {},
   "outputs": [
    {
     "name": "stdout",
     "output_type": "stream",
     "text": [
      "['debasish', 'mohanty']\n",
      "['debasish', 'mohanty']\n"
     ]
    }
   ],
   "source": [
    "def parse_name(fullname: str):\n",
    "    r_val = fullname.split(\" \") \n",
    "    if  len(r_val)> 2:\n",
    "        return [r_val[0] , r_val[-1]]\n",
    "    return fullname.split(\" \")\n",
    "\n",
    "print(parse_name(\"debasish kumar mohanty\"))\n",
    "print(parse_name(\"debasish mohanty\"))"
   ]
  }
 ],
 "metadata": {
  "kernelspec": {
   "display_name": "Python 3 (ipykernel)",
   "language": "python",
   "name": "python3"
  },
  "language_info": {
   "codemirror_mode": {
    "name": "ipython",
    "version": 3
   },
   "file_extension": ".py",
   "mimetype": "text/x-python",
   "name": "python",
   "nbconvert_exporter": "python",
   "pygments_lexer": "ipython3",
   "version": "3.10.11"
  }
 },
 "nbformat": 4,
 "nbformat_minor": 5
}
