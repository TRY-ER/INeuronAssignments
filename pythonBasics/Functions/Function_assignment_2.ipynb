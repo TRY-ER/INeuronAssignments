{
 "cells": [
  {
   "cell_type": "markdown",
   "id": "eda79b9e-939f-4116-95c9-b2db04aa3dac",
   "metadata": {},
   "source": [
    "## 1. What is a lambda function in Python, and how does it differ from a regular function?"
   ]
  },
  {
   "cell_type": "markdown",
   "id": "e9db160a-dcb4-4e0a-a6ea-adb37a6991b0",
   "metadata": {},
   "source": [
    "In Python, a lambda function, also known as an anonymous function, is a small, single-line function that doesn't require a formal definition using the def keyword. Lambda functions are created using the lambda keyword, followed by a list of arguments, a colon (:), and an expression."
   ]
  },
  {
   "cell_type": "markdown",
   "id": "2ab15380-0d2e-481e-8c40-fc4111182d8f",
   "metadata": {},
   "source": [
    "## 2. Can a lambda function in Python have multiple arguments? If yes, how can you define and use them?"
   ]
  },
  {
   "cell_type": "markdown",
   "id": "df796a52-cd11-4d75-bb9c-87554c87ad5f",
   "metadata": {},
   "source": [
    "Yes, a lambda function in Python can have multiple arguments. You can define and use multiple arguments in a lambda function by separating them with commas within the argument list."
   ]
  },
  {
   "cell_type": "code",
   "execution_count": 1,
   "id": "67f1105d-97c6-434f-b1fc-b6795139b3bd",
   "metadata": {},
   "outputs": [
    {
     "data": {
      "text/plain": [
       "8"
      ]
     },
     "execution_count": 1,
     "metadata": {},
     "output_type": "execute_result"
    }
   ],
   "source": [
    "multiply = lambda a,b: a*b\n",
    "multiply(2,4)"
   ]
  },
  {
   "cell_type": "markdown",
   "id": "0b6335d8-b925-4caa-add6-232f04fb3b2f",
   "metadata": {},
   "source": [
    "## 3. How are lambda functions typically used in Python? Provide an example use case."
   ]
  },
  {
   "cell_type": "markdown",
   "id": "c3c4476c-afe8-4d1d-8867-045c19d03e8a",
   "metadata": {},
   "source": [
    "Lambda functions in Python are commonly employed when a compact and anonymous function is required for a specific task. They are particularly useful for concise, one-liner operations without the need for formal function declarations.\r\n",
    "\r\n",
    "Sorting and filtering operations provide a common use case for lambda functions. They can be seamlessly integrated as arguments within higher-order functions such as map(), filter(), and sorted(). This enables swift operations on iterables, facilitating efficient data manipulation."
   ]
  },
  {
   "cell_type": "code",
   "execution_count": 6,
   "id": "25970ab5-6a7f-4ea9-9017-4b2d18f1e65d",
   "metadata": {},
   "outputs": [
    {
     "name": "stdout",
     "output_type": "stream",
     "text": [
      "[1, 4, 9]\n"
     ]
    }
   ],
   "source": [
    "import numpy as np\n",
    "# used string parsing to get perfect squares \n",
    "num = [ 1,2,3,4,5,6,7,8,9 ]\n",
    "per_sqrs = list(filter(lambda n: int(str(np.sqrt(n)).split(\".\")[-1]) == 0, num))\n",
    "print(per_sqrs)    "
   ]
  },
  {
   "cell_type": "markdown",
   "id": "b8d6a4a8-1572-49cf-ae9d-f3f8ebd76ed1",
   "metadata": {},
   "source": [
    "## 4. What are the advantages and limitations of lambda functions compared to regular functions in Python?"
   ]
  },
  {
   "cell_type": "markdown",
   "id": "86254b5b-aa87-46aa-8c0b-adb579b5a291",
   "metadata": {},
   "source": [
    "Lambda functions in Python offer several advantages compared to regular functions:\n",
    "\n",
    "Advantages:\n",
    "\n",
    "1. Concise Syntax: Lambda functions provide a compact and readable way to define functions, often in a single line of code.\n",
    "2. Anonymity: Lambda functions do not require a formal function name, making them suitable for specific tasks without the need for reuse.\n",
    "3. Readability: Lambda functions can enhance code readability, especially when used with higher-order functions.\n",
    "\n",
    "Limitations:\n",
    "\n",
    "1. Limited Functionality: Lambda functions are limited to a single expression and cannot contain multiple statements or complex logic. They are best suited for simple tasks.\n",
    "2. Lack of Documentation: Lambda functions lack the ability to provide detailed documentation or meaningful function names, which may make code maintenance and understanding more challenging.\n",
    "3. Reduced Reusability: Due to their anonymous nature, lambda functions are not easily reusable and are typically used for immediate tasks rather than extensive code reuse."
   ]
  },
  {
   "cell_type": "markdown",
   "id": "ec358914-9d59-4209-b1e7-ad5f432af5b6",
   "metadata": {},
   "source": [
    "## 5. Are lambda functions in Python able to access variables defined outside of their own scope? Explain with an example."
   ]
  },
  {
   "cell_type": "markdown",
   "id": "e41e46eb-d7b8-4dd9-88d3-e63e6aafe525",
   "metadata": {},
   "source": [
    "Yes, lambda functions in Python can access variables defined outside of their own scope. This concept is known as \"lexical scoping\" or \"closure.\""
   ]
  },
  {
   "cell_type": "code",
   "execution_count": 8,
   "id": "961056c1-6fcb-4689-9995-7be5f28dbfc8",
   "metadata": {},
   "outputs": [
    {
     "name": "stdout",
     "output_type": "stream",
     "text": [
      "50\n"
     ]
    }
   ],
   "source": [
    "def multiplier(n):\n",
    "    return lambda x: x * n\n",
    "\n",
    "multi_5 = multiplier(5)\n",
    "\n",
    "result = multi_5(10)\n",
    "print(result)  "
   ]
  },
  {
   "cell_type": "markdown",
   "id": "37879199-0f61-4cc7-a702-07a6d49a9c34",
   "metadata": {},
   "source": [
    "## 6. Write a lambda function to calculate the square of a given number."
   ]
  },
  {
   "cell_type": "code",
   "execution_count": 9,
   "id": "86ded364-888a-4488-92c5-eee2df031015",
   "metadata": {},
   "outputs": [
    {
     "data": {
      "text/plain": [
       "4"
      ]
     },
     "execution_count": 9,
     "metadata": {},
     "output_type": "execute_result"
    }
   ],
   "source": [
    "square = lambda x : x**2\n",
    "square(2)"
   ]
  },
  {
   "cell_type": "markdown",
   "id": "cc878411-7d92-4ef6-945a-c9a486c8a962",
   "metadata": {},
   "source": [
    "## 7. Create a lambda function to find the maximum value in a list of integers."
   ]
  },
  {
   "cell_type": "code",
   "execution_count": 10,
   "id": "e5c1ae81-528f-430f-8667-2a58ee20a7a2",
   "metadata": {},
   "outputs": [
    {
     "data": {
      "text/plain": [
       "69"
      ]
     },
     "execution_count": 10,
     "metadata": {},
     "output_type": "execute_result"
    }
   ],
   "source": [
    "nums = [ 1,3,4,67,69,34,6]\n",
    "\n",
    "get_max = lambda x: max(x)\n",
    "get_max(nums)"
   ]
  },
  {
   "cell_type": "markdown",
   "id": "00e7f99e-939a-454f-9361-3e9d698c4b0f",
   "metadata": {},
   "source": [
    "## 8. Implement a lambda function to filter out all the even numbers from a list of integers."
   ]
  },
  {
   "cell_type": "code",
   "execution_count": 11,
   "id": "0d9d460e-6e43-49e3-91f5-a635868f7be0",
   "metadata": {},
   "outputs": [
    {
     "name": "stdout",
     "output_type": "stream",
     "text": [
      "[0, 2, 4, 6, 8, 10, 12, 14, 16, 18, 20, 22, 24, 26, 28, 30, 32, 34, 36, 38]\n"
     ]
    }
   ],
   "source": [
    "nums = [ x for x in range(40) ]\n",
    "evens = list(filter( lambda x : x%2 == 0, nums))\n",
    "print(evens)"
   ]
  },
  {
   "cell_type": "markdown",
   "id": "b850d9e5-a079-436c-9e35-0088d610a681",
   "metadata": {},
   "source": [
    "## 9. Write a lambda function to sort a list of strings in ascending order based on the length of each string."
   ]
  },
  {
   "cell_type": "code",
   "execution_count": 12,
   "id": "48551919-eae3-4c61-a793-e7b16ccf9e55",
   "metadata": {},
   "outputs": [
    {
     "name": "stdout",
     "output_type": "stream",
     "text": [
      "['manoj', 'roshan', 'debasish']\n"
     ]
    }
   ],
   "source": [
    "names = [\"debasish\", \"manoj\", \"roshan\"]\n",
    "s_names = sorted(names, key= lambda name: len(name))\n",
    "print(s_names)"
   ]
  },
  {
   "cell_type": "markdown",
   "id": "c15e22a1-af4d-4de9-ba6a-f3a09147eb3c",
   "metadata": {},
   "source": [
    "## 10. Create a lambda function that takes two lists as input and returns a new list containing the common elements between the two lists."
   ]
  },
  {
   "cell_type": "code",
   "execution_count": 15,
   "id": "3b0171d5-cc4e-4ab1-b1f8-7ef13ba44147",
   "metadata": {},
   "outputs": [
    {
     "data": {
      "text/plain": [
       "[2, 4]"
      ]
     },
     "execution_count": 15,
     "metadata": {},
     "output_type": "execute_result"
    }
   ],
   "source": [
    "find_common = lambda list1, list2: [ x for x in list1 if x in list2]\n",
    "list1 = [1,2,3,4]\n",
    "list2 = [2,4,6,7]\n",
    "find_common(list1,list2)"
   ]
  },
  {
   "cell_type": "markdown",
   "id": "fb930b5a-7dba-4020-b2f2-496fd67fe7ba",
   "metadata": {},
   "source": [
    "## 11. Write a recursive function to calculate the factorial of a given positive integer."
   ]
  },
  {
   "cell_type": "code",
   "execution_count": 3,
   "id": "b03bb17d-bd10-4eb8-b147-d38cf52f8f5a",
   "metadata": {},
   "outputs": [
    {
     "name": "stdout",
     "output_type": "stream",
     "text": [
      "2432902008176640000\n"
     ]
    }
   ],
   "source": [
    "def recur_fact(n):\n",
    "    if n == 1 or n == 0:\n",
    "        return 1\n",
    "    else:\n",
    "        return n*recur_fact(n-1)\n",
    "print(recur_fact(20))"
   ]
  },
  {
   "cell_type": "markdown",
   "id": "1885776a-c080-4bdc-ac88-5325ab96d68b",
   "metadata": {},
   "source": [
    "## 12. Implement a recursive function to compute the nth Fibonacci number."
   ]
  },
  {
   "cell_type": "code",
   "execution_count": 10,
   "id": "219ac656-1ec1-4ba7-88bd-8845d280981f",
   "metadata": {},
   "outputs": [
    {
     "data": {
      "text/plain": [
       "55"
      ]
     },
     "execution_count": 10,
     "metadata": {},
     "output_type": "execute_result"
    }
   ],
   "source": [
    "def find_fibbonacci(num: int)->int:\n",
    "    if num<=0:\n",
    "        return 0\n",
    "    elif num in [1,0]:\n",
    "        return 1\n",
    "    else:\n",
    "        return find_fibbonacci(num-1) + find_fibbonacci(num-2)\n",
    "\n",
    "find_fibbonacci(10)"
   ]
  },
  {
   "cell_type": "markdown",
   "id": "a91de90a-538f-41e5-99a9-af58f679ab1f",
   "metadata": {},
   "source": [
    "## 13. Create a recursive function to find the sum of all the elements in a given list."
   ]
  },
  {
   "cell_type": "code",
   "execution_count": 15,
   "id": "f9a1345b-b8aa-4b7f-976f-235b3c0b033e",
   "metadata": {},
   "outputs": [
    {
     "data": {
      "text/plain": [
       "10"
      ]
     },
     "execution_count": 15,
     "metadata": {},
     "output_type": "execute_result"
    }
   ],
   "source": [
    "def find_sum(l: list):\n",
    "    if len(l) == 0:\n",
    "        return 0\n",
    "    else:\n",
    "        return find_sum(l[1:]) + l[0]\n",
    "\n",
    "find_sum(range(5))"
   ]
  },
  {
   "cell_type": "markdown",
   "id": "2a10e78f-8646-4813-8972-883eee3f43b4",
   "metadata": {},
   "source": [
    "## 14. Write a recursive function to determine whether a given string is a palindrome."
   ]
  },
  {
   "cell_type": "code",
   "execution_count": 18,
   "id": "c2a6a6ed-1b2a-430b-8d74-00d697457e41",
   "metadata": {},
   "outputs": [
    {
     "name": "stdout",
     "output_type": "stream",
     "text": [
      "True\n",
      "False\n"
     ]
    }
   ],
   "source": [
    "def pal_recur(s: str):\n",
    "    if len(s) <=1:\n",
    "        return True\n",
    "    elif s[0] == s[-1]:\n",
    "        return pal_recur(s[1:-1])\n",
    "    else:\n",
    "        return False\n",
    "\n",
    "print(pal_recur(\"someemos\"))\n",
    "print(pal_recur(\"somosa\"))"
   ]
  },
  {
   "cell_type": "markdown",
   "id": "adf90c87-e12d-4655-94c9-cb17df15368b",
   "metadata": {},
   "source": [
    "## 15. Implement a recursive function to find the greatest common divisor (GCD) of two positive integers."
   ]
  },
  {
   "cell_type": "code",
   "execution_count": 20,
   "id": "4a7a4d5c-d27b-486f-a167-18f33fc319f5",
   "metadata": {},
   "outputs": [
    {
     "data": {
      "text/plain": [
       "12"
      ]
     },
     "execution_count": 20,
     "metadata": {},
     "output_type": "execute_result"
    }
   ],
   "source": [
    "def gcd_recur(a: int, b: int):\n",
    "    if b == 0:\n",
    "        return a\n",
    "    else:\n",
    "        return gcd_recur(b, a%b)\n",
    "\n",
    "gcd_recur(24,36)"
   ]
  }
 ],
 "metadata": {
  "kernelspec": {
   "display_name": "Python 3 (ipykernel)",
   "language": "python",
   "name": "python3"
  },
  "language_info": {
   "codemirror_mode": {
    "name": "ipython",
    "version": 3
   },
   "file_extension": ".py",
   "mimetype": "text/x-python",
   "name": "python",
   "nbconvert_exporter": "python",
   "pygments_lexer": "ipython3",
   "version": "3.10.11"
  }
 },
 "nbformat": 4,
 "nbformat_minor": 5
}
