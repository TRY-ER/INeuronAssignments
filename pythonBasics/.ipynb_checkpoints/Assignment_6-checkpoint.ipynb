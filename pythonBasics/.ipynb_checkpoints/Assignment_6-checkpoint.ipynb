{
 "cells": [
  {
   "cell_type": "markdown",
   "id": "377d97f3-58ce-4e09-803c-66cc4b79937f",
   "metadata": {},
   "source": [
    "## Q.1. What are keywords in python? Using the keyword library, print all the python keywords."
   ]
  },
  {
   "cell_type": "markdown",
   "id": "016f819e-d66b-4667-aac4-b68cf5fb3a63",
   "metadata": {},
   "source": [
    "Keywords in Python are special words that have specific meanings and are already used by Python for specific purposes. You cannot use these words as names for your own things like variables or functions. They are like building blocks that help create the structure and flow of a Python program."
   ]
  },
  {
   "cell_type": "code",
   "execution_count": 1,
   "id": "c6b16678-d608-4eae-90f4-40c224bb9eb2",
   "metadata": {
    "tags": []
   },
   "outputs": [
    {
     "name": "stdout",
     "output_type": "stream",
     "text": [
      "False\n",
      "None\n",
      "True\n",
      "and\n",
      "as\n",
      "assert\n",
      "async\n",
      "await\n",
      "break\n",
      "class\n",
      "continue\n",
      "def\n",
      "del\n",
      "elif\n",
      "else\n",
      "except\n",
      "finally\n",
      "for\n",
      "from\n",
      "global\n",
      "if\n",
      "import\n",
      "in\n",
      "is\n",
      "lambda\n",
      "nonlocal\n",
      "not\n",
      "or\n",
      "pass\n",
      "raise\n",
      "return\n",
      "try\n",
      "while\n",
      "with\n",
      "yield\n"
     ]
    }
   ],
   "source": [
    "import keyword\n",
    "\n",
    "for keyword in keyword.kwlist:\n",
    "    print(keyword)"
   ]
  },
  {
   "cell_type": "markdown",
   "id": "837d1586-2a2d-4c41-bc71-1c680e11f819",
   "metadata": {},
   "source": [
    "## Q.2. What are the rules to create variables in python?"
   ]
  },
  {
   "cell_type": "markdown",
   "id": "93c23a73-fd10-4d8c-85b4-090c18038e05",
   "metadata": {},
   "source": [
    "1. Variables in Python can include letters (a-z, A-Z), digits (0-9), and underscores (_). They should start with a letter or underscore, but not with a digit. For instance, my_variable, _count, x, etc.\n",
    "\n",
    "2. Python is case-sensitive, meaning that my_variable and My_Variable are treated as distinct variables.\n",
    "\n",
    "3. Reserved keywords, such as if, for, while, print, cannot be used as variable names in Python.\n",
    "\n",
    "4. It is advisable to use descriptive and meaningful variable names that indicate the purpose or content of the stored data. For example, name, age, total_sales, etc.\n",
    "\n",
    "5. In Python, it is common to use lowercase letters and underscores to separate words in variable names, known as the snake case convention. For example, first_name, student_age, total_count, etc.\n",
    "\n",
    "6. To assign a value to a variable, employ the = operator. For instance, x = 10 assigns the value 10 to the variable x.\n",
    "\n",
    "\n",
    "\n",
    "\n",
    "\n",
    "\n"
   ]
  },
  {
   "cell_type": "markdown",
   "id": "43435112-b21f-40f8-ab28-91908e519d5e",
   "metadata": {},
   "source": [
    "## Q.3. What are the standards and conventions followed for the nomenclature of variables in python to improve code readability and maintainability?"
   ]
  },
  {
   "cell_type": "markdown",
   "id": "46032995-cc61-4f17-9830-37d50e576976",
   "metadata": {},
   "source": [
    "1. Opt for descriptive and meaningful names: Select variable names that clearly convey their purpose or content. For instance, instead of using short names like x or y, opt for more descriptive names such as counter, total_sales, or student_age.\n",
    "\n",
    "2. Adhere to the snake_case convention: In Python, it is customary to use lowercase letters and underscores to separate words in variable names. For instance, choose names like first_name, student_age, or total_count. This convention enhances readability by making variable names more understandable.\n",
    "\n",
    "3. Avoid reserved keywords: Steer clear of using Python reserved keywords as variable names. These keywords have predefined meanings in Python and serve specific purposes. Examples of reserved keywords include if, for, while, and print. Using them as variable names can lead to syntax errors.\n",
    "\n",
    "4. Maintain consistency: Ensure consistency in naming conventions across your codebase. Choose a specific naming style and adhere to it consistently. This practice improves code readability and facilitates better understanding and maintenance by other developers.\n",
    "\n",
    "5. Use meaningful abbreviations when necessary: If a variable name becomes excessively long, it is acceptable to use meaningful abbreviations. However, prioritize clarity and avoid excessive abbreviation that may compromise code readability. It is generally recommended to favor clear and understandable variable names over excessive abbreviation."
   ]
  },
  {
   "cell_type": "markdown",
   "id": "5fedcc55-37c1-4e58-8d44-3b7bb8be0674",
   "metadata": {},
   "source": [
    "## Q.4. What will happen if a keyword is used as a variable name?"
   ]
  },
  {
   "cell_type": "code",
   "execution_count": 22,
   "id": "a22e8568-6179-4a98-b37b-6b08d22831b0",
   "metadata": {
    "tags": []
   },
   "outputs": [],
   "source": [
    "# int = 5 # for datatypes"
   ]
  },
  {
   "cell_type": "code",
   "execution_count": 23,
   "id": "cef66a84-de0d-45bc-9a15-c06c8755fdde",
   "metadata": {
    "tags": []
   },
   "outputs": [],
   "source": [
    "str = 23 # for datatypes"
   ]
  },
  {
   "cell_type": "code",
   "execution_count": 24,
   "id": "06ad6513-1a6a-429b-be70-1a624a4703ee",
   "metadata": {
    "tags": []
   },
   "outputs": [
    {
     "ename": "SyntaxError",
     "evalue": "invalid syntax (2785399400.py, line 1)",
     "output_type": "error",
     "traceback": [
      "\u001b[1;36m  Cell \u001b[1;32mIn[24], line 1\u001b[1;36m\u001b[0m\n\u001b[1;33m    for = 34 # for conditional keywords\u001b[0m\n\u001b[1;37m        ^\u001b[0m\n\u001b[1;31mSyntaxError\u001b[0m\u001b[1;31m:\u001b[0m invalid syntax\n"
     ]
    }
   ],
   "source": [
    "for = 34 # for conditional keywords"
   ]
  },
  {
   "cell_type": "code",
   "execution_count": 7,
   "id": "ba962b72-14e5-4da1-9e38-1f3387f0d09b",
   "metadata": {
    "tags": []
   },
   "outputs": [
    {
     "ename": "SyntaxError",
     "evalue": "invalid syntax (1130572820.py, line 1)",
     "output_type": "error",
     "traceback": [
      "\u001b[1;36m  Cell \u001b[1;32mIn[7], line 1\u001b[1;36m\u001b[0m\n\u001b[1;33m    pass = 23\u001b[0m\n\u001b[1;37m         ^\u001b[0m\n\u001b[1;31mSyntaxError\u001b[0m\u001b[1;31m:\u001b[0m invalid syntax\n"
     ]
    }
   ],
   "source": [
    "pass = 23"
   ]
  },
  {
   "cell_type": "markdown",
   "id": "fa23312d-1024-4688-b31c-96ead7ea03a0",
   "metadata": {},
   "source": [
    "## Q.5. For what purpose def keyword is used?"
   ]
  },
  {
   "cell_type": "markdown",
   "id": "f2593cac-e43f-4cd5-9293-a9a05bbf9455",
   "metadata": {},
   "source": [
    "\"def\" is used to define a function or declare a function"
   ]
  },
  {
   "cell_type": "markdown",
   "id": "d13af538-feff-4f9a-9533-62a4ae776153",
   "metadata": {},
   "source": [
    "## Q.6. What is the operation of this special character ‘\\’?"
   ]
  },
  {
   "cell_type": "markdown",
   "id": "07cf2fa2-c0f5-4b3b-aa2c-592591e6976b",
   "metadata": {},
   "source": [
    "\n",
    "In Python, the backslash character '\\' is known as an escape character. Its purpose is to handle special characters or sequences within strings. When the backslash is followed by specific characters, it forms an escape sequence, which serves a distinct purpose or represents a special character."
   ]
  },
  {
   "cell_type": "markdown",
   "id": "51e70f71-df64-4753-bcc2-9e4e9f1274d7",
   "metadata": {},
   "source": [
    "## Q.7. Give an example of the following conditions:\n",
    "(i) Homogeneous list\n",
    "\n",
    "(ii) Heterogeneous set\n",
    "\n",
    "(iii) Homogeneous tuple"
   ]
  },
  {
   "cell_type": "code",
   "execution_count": 8,
   "id": "d39bae5b-f647-4614-bd43-a294f23333bb",
   "metadata": {
    "tags": []
   },
   "outputs": [],
   "source": [
    "num = [1, 2, 3, 2, 1] #homogeneous list"
   ]
  },
  {
   "cell_type": "code",
   "execution_count": 9,
   "id": "874cd78d-de5d-46ea-b8ef-2ef7d008a42a",
   "metadata": {
    "tags": []
   },
   "outputs": [],
   "source": [
    "het_set = {'some word', False, 1.414, 69} #heterogeneous set"
   ]
  },
  {
   "cell_type": "code",
   "execution_count": 10,
   "id": "b13d13e2-3e95-4368-b617-dd1bc0f8c732",
   "metadata": {
    "tags": []
   },
   "outputs": [],
   "source": [
    "name_list = ('name1', 'name2', 'name3', 'name4') #homogeneous tuple"
   ]
  },
  {
   "cell_type": "markdown",
   "id": "bc0d9fb9-014f-40c0-81e5-ea943c2442ac",
   "metadata": {},
   "source": [
    "## Q.8. Explain the mutable and immutable data types with proper explanation & examples."
   ]
  },
  {
   "cell_type": "markdown",
   "id": "0e435cff-8652-4d21-a98d-b1454c68b732",
   "metadata": {},
   "source": [
    "Mutable Data Types:\n",
    "\n",
    "1. Mutable data types are those that can be modified or changed after they are created.\n",
    "2. When you modify a mutable object, it retains its identity but its content can be altered.\n",
    "3. Examples of mutable data types in Python include lists, sets, and dictionaries.\n",
    "\n",
    "Immutable Data Types:\n",
    "\n",
    "1. Immutable data types are those that cannot be modified or changed after they are created.\n",
    "2. When you modify an immutable object, a new object is created with the modified value, and the original object remains unchanged.\n",
    "3. Examples of immutable data types in Python include strings, tuples, and numbers (integers, floats, etc.)."
   ]
  },
  {
   "cell_type": "code",
   "execution_count": 13,
   "id": "aace4151-ff57-4998-9c50-eee7eb6a6570",
   "metadata": {
    "tags": []
   },
   "outputs": [
    {
     "name": "stdout",
     "output_type": "stream",
     "text": [
      "[10, 2, 3]\n"
     ]
    }
   ],
   "source": [
    "# mutable\n",
    "\n",
    "s_list = [1, 2, 3]\n",
    "s_list[0] = 10\n",
    "print(s_list)  # Output: [10, 2, 3]"
   ]
  },
  {
   "cell_type": "code",
   "execution_count": 14,
   "id": "96df05f5-2d29-4c5f-8636-1cfb214219d0",
   "metadata": {
    "tags": []
   },
   "outputs": [
    {
     "name": "stdout",
     "output_type": "stream",
     "text": [
      "Hello World\n"
     ]
    }
   ],
   "source": [
    "# immutable @sting\n",
    "first_string = \"Hello\"\n",
    "new_string = first_string + \" World\"\n",
    "print(new_string)  # Output: \"Hello World\""
   ]
  },
  {
   "cell_type": "markdown",
   "id": "2bbf9040-d970-4d53-a36f-04d22b99020c",
   "metadata": {},
   "source": [
    "## Q.9. Write a code to create the given structure using only for loop."
   ]
  },
  {
   "cell_type": "markdown",
   "id": "85363ef9-1553-4fb2-a148-770847984db8",
   "metadata": {},
   "source": [
    "### Conventional Method"
   ]
  },
  {
   "cell_type": "code",
   "execution_count": 15,
   "id": "274ae421-6113-4ec5-86bb-1bde0af779c0",
   "metadata": {
    "tags": []
   },
   "outputs": [
    {
     "name": "stdout",
     "output_type": "stream",
     "text": [
      "    *\n",
      "   ***\n",
      "  *****\n",
      " *******\n",
      "*********\n"
     ]
    }
   ],
   "source": [
    "rows = 5\n",
    "for i in range(rows):\n",
    "    for j in range(rows - i - 1):\n",
    "        print(\" \", end=\"\")\n",
    "    for k in range(2 * i + 1):\n",
    "        print(\"*\", end=\"\")\n",
    "    print()"
   ]
  },
  {
   "cell_type": "markdown",
   "id": "b69ff58c-9df0-4f01-912c-98a9b799b796",
   "metadata": {},
   "source": [
    "### Custom Method using mathematical formula and string operations"
   ]
  },
  {
   "cell_type": "code",
   "execution_count": 17,
   "id": "dd002f27-ac21-4e53-9649-090fb7ff2dbc",
   "metadata": {
    "tags": []
   },
   "outputs": [
    {
     "name": "stdout",
     "output_type": "stream",
     "text": [
      "    *    \n",
      "   ***   \n",
      "  *****  \n",
      " ******* \n",
      "*********\n"
     ]
    }
   ],
   "source": [
    "num_rows = 5\n",
    "max_s = num_rows*2-1\n",
    "for i in range(num_rows):\n",
    "    null_print = int((max_s - (2*i) -1)/2)\n",
    "    print(\" \"*null_print+\"*\"*(2*i+1)+\" \"*null_print)"
   ]
  },
  {
   "cell_type": "markdown",
   "id": "65c4a511-daf8-4062-acff-30ab20d9a89c",
   "metadata": {},
   "source": [
    "## Q.10. Write a code to create the given structure using while loop."
   ]
  },
  {
   "cell_type": "code",
   "execution_count": 37,
   "id": "79dd7e22-db6c-4789-aec0-98ff1ca2f9c0",
   "metadata": {
    "tags": []
   },
   "outputs": [
    {
     "name": "stdout",
     "output_type": "stream",
     "text": [
      "|||||||||\n",
      " ||||||| \n",
      "  |||||  \n",
      "   |||   \n",
      "    |    \n"
     ]
    }
   ],
   "source": [
    "num_rows = 5 #using same logic as above\n",
    "max_s = num_rows*2 -1\n",
    "while (num_rows > 0):\n",
    "    null_print = int((max_s - (2*(num_rows-1)) -1)/2)\n",
    "    print(\" \"*null_print+\"|\"*(2*num_rows-1)+\" \"*null_print)\n",
    "    num_rows = num_rows -1 "
   ]
  },
  {
   "cell_type": "code",
   "execution_count": null,
   "id": "90426923-2e5c-4b32-a406-2f6609ff9986",
   "metadata": {},
   "outputs": [],
   "source": []
  }
 ],
 "metadata": {
  "kernelspec": {
   "display_name": "Python 3 (ipykernel)",
   "language": "python",
   "name": "python3"
  },
  "language_info": {
   "codemirror_mode": {
    "name": "ipython",
    "version": 3
   },
   "file_extension": ".py",
   "mimetype": "text/x-python",
   "name": "python",
   "nbconvert_exporter": "python",
   "pygments_lexer": "ipython3",
   "version": "3.10.6"
  }
 },
 "nbformat": 4,
 "nbformat_minor": 5
}
