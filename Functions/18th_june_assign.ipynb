{
 "cells": [
  {
   "cell_type": "markdown",
   "id": "a533ed70-de4b-427b-9aff-ca80f528b85e",
   "metadata": {},
   "source": [
    "## 1. What is the role of the 'else' block in a try-except statement? Provide an example scenario where it would be useful."
   ]
  },
  {
   "cell_type": "markdown",
   "id": "558d707e-e8f4-42ea-ab99-e3d0ff6f98a8",
   "metadata": {},
   "source": [
    "The 'else' block in a try-except statement is not mandatory but serves the purpose of executing code specifically when the 'try' block concludes successfully, without encountering any exceptions. It allows you to define actions that should be performed only when the 'try' block executes without any errors."
   ]
  },
  {
   "cell_type": "code",
   "execution_count": 1,
   "id": "e358ca87-1419-4b80-8883-4a6657b2909b",
   "metadata": {},
   "outputs": [
    {
     "name": "stdin",
     "output_type": "stream",
     "text": [
      "Enter a positive number:  0.0\n"
     ]
    },
    {
     "name": "stdout",
     "output_type": "stream",
     "text": [
      "Invalid input. Please enter a valid integer.\n"
     ]
    }
   ],
   "source": [
    "# example\n",
    "try:\n",
    "    number = int(input(\"Enter a positive number: \"))\n",
    "except ValueError:\n",
    "    print(\"Invalid input. Please enter a valid integer.\")\n",
    "else:\n",
    "    if number > 0:\n",
    "        print(\"You entered a positive number.\")\n",
    "    else:\n",
    "        print(\"You did not enter a positive number.\")"
   ]
  },
  {
   "cell_type": "markdown",
   "id": "a56f3c29-425f-4d97-9206-d675e7eec991",
   "metadata": {},
   "source": [
    "## 2. Can a try-except block be nested inside another try-except block? Explain with an example."
   ]
  },
  {
   "cell_type": "markdown",
   "id": "549844fb-d4be-4fa0-a3cb-98f097467b77",
   "metadata": {},
   "source": [
    "Indeed, it is possible to have a try-except block nested inside another try-except block in Python. This nested structure enables a hierarchical approach to exception handling, where specific exceptions can be handled at different levels of the code while still having a fallback mechanism in outer blocks to handle any unhandled exceptions."
   ]
  },
  {
   "cell_type": "code",
   "execution_count": 4,
   "id": "e6df4534-037f-447d-b1dd-a256b9f24d00",
   "metadata": {},
   "outputs": [
    {
     "name": "stdout",
     "output_type": "stream",
     "text": [
      "Error: File not found.\n"
     ]
    }
   ],
   "source": [
    "try:\n",
    "    file_path = \"./somefilepath\"\n",
    "    try:\n",
    "        file = open(file_path, 'r')\n",
    "        content = file.read()\n",
    "        print(\"File content:\", content)\n",
    "    except FileNotFoundError:\n",
    "        print(\"Error: File not found.\")\n",
    "    except PermissionError:\n",
    "        print(\"Error: Permission denied to access the file.\")\n",
    "    else:\n",
    "        file.close()\n",
    "        print(\"File closed successfully.\")\n",
    "except Exception as e:\n",
    "    print(\"An error occurred:\", str(e))"
   ]
  },
  {
   "cell_type": "markdown",
   "id": "a844754a-afda-4445-9787-e9c3e0d6796b",
   "metadata": {},
   "source": [
    "## 3. How can you create a custom exception class in Python? Provide an example that demonstrates its usage."
   ]
  },
  {
   "cell_type": "code",
   "execution_count": 6,
   "id": "73f951d1-8e07-446a-82d4-0cd6d05316ad",
   "metadata": {},
   "outputs": [
    {
     "name": "stdout",
     "output_type": "stream",
     "text": [
      "Error: Corona Go ! Go Corona ....\n"
     ]
    }
   ],
   "source": [
    "class LaudeKaException(Exception): # creating an custom exceptoin by inheriting from inbuild Exception class\n",
    "    pass\n",
    "\n",
    "def GoCoronaGo():\n",
    "    raise LaudeKaException('Corona Go ! Go Corona ....')\n",
    "\n",
    "try:\n",
    "    GoCoronaGo()\n",
    "except LaudeKaException as e:\n",
    "    print(f'Error: {e}')"
   ]
  },
  {
   "cell_type": "markdown",
   "id": "ee3777fc-fb26-4d82-ae3e-a18084d13fc6",
   "metadata": {},
   "source": [
    "## 4. What are some common exceptions that are built-in to Python?"
   ]
  },
  {
   "cell_type": "markdown",
   "id": "28a6e3ca-57d4-49cb-a01d-044265e41a7e",
   "metadata": {},
   "source": [
    "Some common exceptions that are built-in to Python include \n",
    "\n",
    "AttributeError, \n",
    "\n",
    "IndexError, \n",
    "\n",
    "KeyError, \n",
    "\n",
    "TypeError, \n",
    "\n",
    "ValueError, \n",
    "\n",
    "EOFError, \n",
    "\n",
    "IOError. Each of these exceptions represents a different type of error or exception that can occur in Python, and they are used to handle specific types of errors in different contexts."
   ]
  },
  {
   "cell_type": "markdown",
   "id": "27a6c579-3f95-4756-9c31-6517f9fa3398",
   "metadata": {},
   "source": [
    "## 5. What is logging in Python, and why is it important in software development?"
   ]
  },
  {
   "cell_type": "markdown",
   "id": "4b929a37-fc50-4366-8627-0019a4aac5d4",
   "metadata": {},
   "source": [
    "Logging in Python refers to the practice of writing messages to a file or a console to keep track of what is happening in your program. It is an important aspect of software development because it can help you diagnose issues, track down bugs, and improve the performance of your code. By logging information about what your program is doing, you can get a better understanding of how it works and identify any areas that need to be improved. Additionally, logging can help you debug your code more effectively, because you can see exactly what is happening when a certain piece of code is executed. Overall, logging is an essential tool for any software developer who wants to create high-quality, maintainable software."
   ]
  },
  {
   "cell_type": "markdown",
   "id": "7ee4d128-8771-4769-8dfb-4426217b22f3",
   "metadata": {},
   "source": [
    "## 6. Explain the purpose of log levels in Python logging and provide examples of when each log level would be appropriate."
   ]
  },
  {
   "cell_type": "markdown",
   "id": "d38f29cf-ed9a-4f57-9f63-450061c56350",
   "metadata": {},
   "source": [
    "Log levels in Python logging serve the purpose of organizing and prioritizing log messages based on their severity. They offer flexibility in managing the verbosity of logging output and filtering out less important or irrelevant log messages. The following are commonly used log levels in Python logging, along with examples illustrating when each level is suitable:\n",
    "\n",
    "1. DEBUG: This level is employed for comprehensive debugging information, typically during development or when resolving specific issues. For instance, it can be used to log variable values or intermediate steps in complex algorithms.\n",
    "\n",
    "2. INFO: Informational messages indicating the progress or general operation of an application are logged at this level. It is beneficial for tracking important events, such as the start and completion of tasks or significant milestones during application execution.\n",
    "\n",
    "3. WARNING: This level indicates potential issues or situations that may lead to future errors but do not disrupt the normal program flow. It is useful for highlighting noteworthy events that might require attention, such as deprecation warnings or recoverable non-critical errors.\n",
    "\n",
    "4. ERROR: Errors occurring during program execution that impact functionality or result in unexpected outcomes are logged at this level. It captures significant failures or exceptions that demand attention, like failed database connections or unhandled exceptions.\n",
    "\n",
    "5. CRITICAL: Critical errors or failures that can cause program termination or instability are logged at this level. It denotes the most severe issues requiring immediate attention, such as system crashes, severe data corruption, or security breaches."
   ]
  },
  {
   "cell_type": "markdown",
   "id": "d0d16a88-3361-4362-be39-c5f44d8caa19",
   "metadata": {},
   "source": [
    "## 7. What are log formatters in Python logging, and how can you customise the log message format using formatters?"
   ]
  },
  {
   "cell_type": "markdown",
   "id": "bf8419e6-9295-400f-9178-bd1ee8d3e16b",
   "metadata": {},
   "source": [
    "In Python logging, log formatters are responsible for defining the structure and content of log messages. They allow you to customize the format of log messages according to your specific requirements. The log formatter determines how log records are presented in the log output, including details such as the timestamp, log level, logger name, and the actual message."
   ]
  },
  {
   "cell_type": "code",
   "execution_count": 7,
   "id": "ee2d2ba9-f428-477d-be89-c2170b004f34",
   "metadata": {},
   "outputs": [
    {
     "name": "stderr",
     "output_type": "stream",
     "text": [
      "[WARNING] 2023-06-29 17:04:19,536 - Warning: This is an important message\n",
      "[ERROR] 2023-06-29 17:04:19,537 - An error occurred\n"
     ]
    }
   ],
   "source": [
    "# example \n",
    "import logging\n",
    "formatter = logging.Formatter('[%(levelname)s] %(asctime)s - %(message)s')\n",
    "logger = logging.getLogger('my_logger')\n",
    "handler = logging.StreamHandler()\n",
    "handler.setFormatter(formatter)\n",
    "logger.addHandler(handler)\n",
    "logger.log(logging.WARNING, 'Warning: This is an important message')\n",
    "logger.error('An error occurred')\n",
    "logger.debug('Debugging information')\n",
    "logger.info('This is an informative log message')"
   ]
  },
  {
   "cell_type": "markdown",
   "id": "9732c230-c96c-4344-aa76-4b3325d54fe9",
   "metadata": {},
   "source": [
    "## 8. How can you set up logging to capture log messages from multiple modules or classes in a Python application?"
   ]
  },
  {
   "cell_type": "markdown",
   "id": "6f3688b9-3bba-4cca-85e5-5067aa18822d",
   "metadata": {},
   "source": [
    "\n",
    "To capture log messages from multiple modules or classes in a Python application, you can follow these guidelines:\n",
    "\n",
    "Ensure that the logging module is imported in each module or class where logging is required.\n",
    "\n",
    "Create a separate logger for each module or class by utilizing the logging.getLogger() method. It is recommended to assign a unique name to each logger, preferably matching the respective module or class name.\n",
    "\n",
    "Customize the log level and log output for each logger based on your requirements. This configuration can be performed either globally in the main entry point of your application or individually within each module or class.\n",
    "\n",
    "Utilize the appropriate logger within each module or class to log messages effectively. Employ logging methods such as logger.debug(), logger.info(), logger.warning(), logger.error(), and others based on the significance and severity of the message."
   ]
  },
  {
   "cell_type": "code",
   "execution_count": 1,
   "id": "6eaa9398-18cf-432e-9399-5c4a6c429add",
   "metadata": {
    "collapsed": true,
    "jupyter": {
     "outputs_hidden": true
    }
   },
   "outputs": [
    {
     "name": "stderr",
     "output_type": "stream",
     "text": [
      "2023-06-29 17:18:14,453 - First_module - DEBUG - Debug message from First_module\n",
      "2023-06-29 17:18:14,454 - First_module - INFO - Info message from First_module\n",
      "2023-06-29 17:18:14,454 - First_module - WARNING - Warning message from First_module\n"
     ]
    },
    {
     "name": "stdout",
     "output_type": "stream",
     "text": [
      "2023-06-29 17:18:14,455 - Second_module - DEBUG - Debug message from Second_module\n",
      "\n",
      "2023-06-29 17:18:14,456 - Second_module - INFO - Info message from Second_module\n",
      "\n",
      "2023-06-29 17:18:14,456 - Second_module - ERROR - Error message from Second_module\n",
      "\n"
     ]
    }
   ],
   "source": [
    "# example\n",
    "# first moduel\n",
    "import logging\n",
    "\n",
    "logger = logging.getLogger('First_module')\n",
    "\n",
    "logger.setLevel(logging.DEBUG)\n",
    "\n",
    "handler = logging.StreamHandler()\n",
    "formatter = logging.Formatter('%(asctime)s - %(name)s - %(levelname)s - %(message)s')\n",
    "handler.setFormatter(formatter)\n",
    "\n",
    "logger.addHandler(handler)\n",
    "\n",
    "logger.debug('Debug message from First_module')\n",
    "logger.info('Info message from First_module')\n",
    "logger.warning('Warning message from First_module')\n",
    "\n",
    "\n",
    "# second module \n",
    "import logging\n",
    "\n",
    "logger = logging.getLogger('Second_module')\n",
    "\n",
    "logger.setLevel(logging.DEBUG)\n",
    "\n",
    "handler = logging.FileHandler('Second_module.log')\n",
    "formatter = logging.Formatter('%(asctime)s - %(name)s - %(levelname)s - %(message)s')\n",
    "handler.setFormatter(formatter)\n",
    "\n",
    "logger.addHandler(handler)\n",
    "\n",
    "logger.debug('Debug message from Second_module')\n",
    "logger.info('Info message from Second_module')\n",
    "logger.error('Error message from Second_module')\n",
    "\n",
    "with open(\"Second_module.log\",\"r\") as f:\n",
    "    for i in f.readlines():\n",
    "        print(i)"
   ]
  },
  {
   "cell_type": "markdown",
   "id": "cd2ec1c1-4aac-45e6-b24a-77592258353d",
   "metadata": {},
   "source": [
    "## 9. What is the difference between the logging and print statements in Python? When should you use logging over print statements in a real-world application?"
   ]
  },
  {
   "cell_type": "markdown",
   "id": "6bbdbec8-3de7-4c22-8bdb-095d0c0e2ca6",
   "metadata": {},
   "source": [
    "The logging and print statements in Python serve different purposes and have distinct characteristics. Here are the key differences between them:\n",
    "\n",
    "Output Destination: The print statement writes output to the standard output (typically the console), while the logging module allows you to direct the output to various destinations, such as files, email, network sockets, or external services.\n",
    "\n",
    "Configurability: The print statement has limited configurability. It simply outputs the provided value(s) as-is. On the other hand, the logging module offers extensive configuration options, including log levels, output formats, log handlers, and filters. This allows you to control the verbosity, format, and destination of log messages.\n",
    "\n",
    "Granularity: print statements are often used for immediate debugging purposes during development. They provide a quick way to inspect variable values or track program flow. However, they can be cumbersome to remove or disable once the debugging is complete. Logging, on the other hand, supports different log levels, allowing you to distinguish between different levels of severity and choose what information should be captured based on the execution context.\n",
    "\n",
    "Maintainability: print statements are typically scattered throughout the code and need to be manually removed or commented out after debugging. This makes the code less maintainable and can introduce clutter. Logging, when used properly, provides a more structured and maintainable approach to capturing and managing log messages. Log statements can be easily enabled or disabled, and their behavior can be controlled centrally."
   ]
  },
  {
   "cell_type": "markdown",
   "id": "919bcac4-8490-4aa6-946a-5e92102013e2",
   "metadata": {},
   "source": [
    "In real-world applications, it is generally recommended to use logging over print statements for the following reasons:\n",
    "\n",
    "Flexibility: Logging allows you to configure and control the output of log messages, making it easier to diagnose issues and monitor application behavior in different environments.\n",
    "\n",
    "Scalability: In larger applications, print statements can become overwhelming and difficult to manage. Logging provides a systematic and scalable approach to capturing and analyzing log data.\n",
    "\n",
    "Production Readiness: Logging is essential in production environments, where you might not have direct access to the console. It allows you to collect valuable information about the application's behavior and performance, even when running in a server or distributed environment.\n",
    "\n",
    "Debugging and Troubleshooting: The rich features of the logging module, such as log levels and log handlers, enable better debugging and troubleshooting capabilities. You can selectively enable or disable log messages, set appropriate log levels for different modules or components, and capture detailed information when errors or issues occur."
   ]
  },
  {
   "cell_type": "markdown",
   "id": "2bd5b3b4-86b0-4c8e-890f-8153a7778df7",
   "metadata": {},
   "source": [
    "## 10. Write a Python program that logs a message to a file named \"app.log\" with the following requirements:\n",
    "\n",
    "● The log message should be \"Hello, World!\"\n",
    "\n",
    "● The log level should be set to \"INFO.\"\n",
    "\n",
    "● The log file should append new log entries without overwriting previous ones."
   ]
  },
  {
   "cell_type": "code",
   "execution_count": 3,
   "id": "d43888ad-1be6-490c-bf5d-a08e764a0b08",
   "metadata": {},
   "outputs": [
    {
     "name": "stdout",
     "output_type": "stream",
     "text": [
      "INFO:root:Hello, World!\n",
      "\n",
      "INFO:root:Hello, World!\n",
      "\n"
     ]
    }
   ],
   "source": [
    "import logging\n",
    "logging.basicConfig(filename=\"app.log\", level=logging.INFO, filemode=\"a\")\n",
    "logging.info(\"Hello, World!\")\n",
    "\n",
    "with open(\"app.log\",\"r\") as f:\n",
    "    for line in f.readlines():\n",
    "        print(line)"
   ]
  },
  {
   "cell_type": "markdown",
   "id": "cffeed48-8030-4b87-9660-89edb83e2dd8",
   "metadata": {},
   "source": [
    "## 11. Create a Python program that logs an error message to the console and a file named \"errors.log\" if an exception occurs during the program's execution. The error message should include the exception type and a timestamp."
   ]
  },
  {
   "cell_type": "code",
   "execution_count": 6,
   "id": "cd543ae3-7995-4feb-88a0-9caa8d2056cd",
   "metadata": {},
   "outputs": [
    {
     "name": "stdout",
     "output_type": "stream",
     "text": [
      "Exception : MujheErrorDo--->Error ka baap ...\n"
     ]
    }
   ],
   "source": [
    "import logging\n",
    "import datetime\n",
    "\n",
    "logging.basicConfig(level=logging.ERROR, format=\"%(asctime)s - %(levelname)s - %(message)s\")\n",
    "logger = logging.getLogger()\n",
    "file_handler = logging.FileHandler(\"errors.log\")\n",
    "logger.addHandler(file_handler)\n",
    "\n",
    "class MujheErrorDo(Exception):\n",
    "    ...\n",
    "    \n",
    "def ExceptionLelo():\n",
    "    raise MujheErrorDo(\"Error ka baap ...\")\n",
    "\n",
    "try:\n",
    "    ExceptionLelo()\n",
    "except Exception as e:\n",
    "    code = f\"Exception : {type(e).__name__}\"+f\"--->{e}\"\n",
    "    logger.error(code)\n",
    "    print(code)"
   ]
  },
  {
   "cell_type": "code",
   "execution_count": 7,
   "id": "4def1bd4-ef94-4cc8-8068-c15624f16a2f",
   "metadata": {},
   "outputs": [
    {
     "name": "stdout",
     "output_type": "stream",
     "text": [
      "Exception : NameError\n",
      "\n",
      "Exception : MujheErrorDo\n",
      "\n",
      "Exception : MujheErrorDo\n",
      "\n",
      "Exception : MujheErrorDo--->Error ka baap ...\n",
      "\n",
      "Exception : MujheErrorDo--->Error ka baap ...\n",
      "\n",
      "Exception : MujheErrorDo--->Error ka baap ...\n",
      "\n"
     ]
    }
   ],
   "source": [
    "with open(\"errors.log\",\"r\") as f:\n",
    "    for i in f.readlines():\n",
    "        print(i)"
   ]
  },
  {
   "cell_type": "code",
   "execution_count": null,
   "id": "8eda00d7-99a4-471e-b365-e25b1f6c2ef3",
   "metadata": {},
   "outputs": [],
   "source": []
  }
 ],
 "metadata": {
  "kernelspec": {
   "display_name": "Python 3 (ipykernel)",
   "language": "python",
   "name": "python3"
  },
  "language_info": {
   "codemirror_mode": {
    "name": "ipython",
    "version": 3
   },
   "file_extension": ".py",
   "mimetype": "text/x-python",
   "name": "python",
   "nbconvert_exporter": "python",
   "pygments_lexer": "ipython3",
   "version": "3.10.11"
  }
 },
 "nbformat": 4,
 "nbformat_minor": 5
}
